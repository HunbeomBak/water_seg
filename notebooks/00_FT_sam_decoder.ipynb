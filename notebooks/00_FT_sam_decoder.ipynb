{
 "cells": [
  {
   "cell_type": "code",
   "execution_count": 1,
   "id": "3ff9167a-331f-41bb-b92f-cb4d74d23678",
   "metadata": {},
   "outputs": [],
   "source": [
    "import os\n",
    "import sys\n",
    "module_path = os.path.abspath(os.path.join('..'))\n",
    "if module_path not in sys.path:\n",
    "    sys.path.append(module_path)"
   ]
  },
  {
   "cell_type": "code",
   "execution_count": 2,
   "id": "00a89010-b6b6-4336-b81a-4d5db73d8861",
   "metadata": {},
   "outputs": [
    {
     "name": "stderr",
     "output_type": "stream",
     "text": [
      "C:\\Users\\danusys16\\anaconda3\\envs\\sam\\lib\\site-packages\\tqdm\\auto.py:21: TqdmWarning: IProgress not found. Please update jupyter and ipywidgets. See https://ipywidgets.readthedocs.io/en/stable/user_install.html\n",
      "  from .autonotebook import tqdm as notebook_tqdm\n",
      "C:\\Users\\danusys16\\anaconda3\\envs\\sam\\lib\\site-packages\\timm\\models\\layers\\__init__.py:48: FutureWarning: Importing from timm.models.layers is deprecated, please import via timm.layers\n",
      "  warnings.warn(f\"Importing from {__name__} is deprecated, please import via timm.layers\", FutureWarning)\n",
      "C:\\Users\\danusys16\\anaconda3\\envs\\sam\\lib\\site-packages\\timm\\models\\registry.py:4: FutureWarning: Importing from timm.models.registry is deprecated, please import via timm.models\n",
      "  warnings.warn(f\"Importing from {__name__} is deprecated, please import via timm.models\", FutureWarning)\n",
      "D:\\015_segmentation\\Custom_SAM\\Module\\sam\\modeling\\tiny_vit_sam.py:656: UserWarning: Overwriting tiny_vit_5m_224 in registry with Module.sam.modeling.tiny_vit_sam.tiny_vit_5m_224. This is because the name being registered conflicts with an existing name. Please check if this is not expected.\n",
      "  return register_model(fn_wrapper)\n",
      "D:\\015_segmentation\\Custom_SAM\\Module\\sam\\modeling\\tiny_vit_sam.py:656: UserWarning: Overwriting tiny_vit_11m_224 in registry with Module.sam.modeling.tiny_vit_sam.tiny_vit_11m_224. This is because the name being registered conflicts with an existing name. Please check if this is not expected.\n",
      "  return register_model(fn_wrapper)\n",
      "D:\\015_segmentation\\Custom_SAM\\Module\\sam\\modeling\\tiny_vit_sam.py:656: UserWarning: Overwriting tiny_vit_21m_224 in registry with Module.sam.modeling.tiny_vit_sam.tiny_vit_21m_224. This is because the name being registered conflicts with an existing name. Please check if this is not expected.\n",
      "  return register_model(fn_wrapper)\n",
      "D:\\015_segmentation\\Custom_SAM\\Module\\sam\\modeling\\tiny_vit_sam.py:656: UserWarning: Overwriting tiny_vit_21m_384 in registry with Module.sam.modeling.tiny_vit_sam.tiny_vit_21m_384. This is because the name being registered conflicts with an existing name. Please check if this is not expected.\n",
      "  return register_model(fn_wrapper)\n",
      "D:\\015_segmentation\\Custom_SAM\\Module\\sam\\modeling\\tiny_vit_sam.py:656: UserWarning: Overwriting tiny_vit_21m_512 in registry with Module.sam.modeling.tiny_vit_sam.tiny_vit_21m_512. This is because the name being registered conflicts with an existing name. Please check if this is not expected.\n",
      "  return register_model(fn_wrapper)\n"
     ]
    }
   ],
   "source": [
    "import os\n",
    "\n",
    "import torch\n",
    "import albumentations as A\n",
    "import datetime\n",
    "import json\n",
    "\n",
    "from torch.utils.data import DataLoader\n",
    "from Module.dataset.WaterDataset import TrainDataset, ValDataset\n",
    "from Module.sam import SamPredictor, sam_model_registry\n",
    "from Module.utils.util import get_device, setting2json\n",
    "from Module.trainer.full_train import train_one_epoch\n",
    "from Module.trainer.fine_tuning import tune_one_epoch\n",
    "from Module.trainer.validation import val_one_epoch\n",
    "from Module.utils.text_writer import TextWriter"
   ]
  },
  {
   "cell_type": "markdown",
   "id": "9096ecda-b2f6-45fb-97da-95a8f79734cb",
   "metadata": {},
   "source": [
    "# Setting"
   ]
  },
  {
   "cell_type": "code",
   "execution_count": 3,
   "id": "1023a6f8-ee89-4aff-987d-485c17b3358d",
   "metadata": {},
   "outputs": [],
   "source": [
    "setting = {}\n",
    "\n",
    "lr = 1e-5\n",
    "bs = 2\n",
    "N_epoch = 30\n",
    "device = get_device()\n",
    "\n",
    "## Selelct \"fine_tunning\" or \"full_train\"\n",
    "train_type = \"fine_tunning\"\n",
    "\n",
    "setting[\"train\"] = {}\n",
    "setting[\"train\"][\"train_type\"] = train_type\n",
    "setting[\"train\"][\"learning_rate\"] = lr\n",
    "setting[\"train\"][\"batch_size\"] = bs\n",
    "setting[\"train\"][\"epochs\"] = N_epoch\n",
    "setting[\"device\"] = device.type"
   ]
  },
  {
   "cell_type": "markdown",
   "id": "35293dda-5f70-4372-8a94-e2b635960ecc",
   "metadata": {
    "tags": []
   },
   "source": [
    "# Model"
   ]
  },
  {
   "cell_type": "markdown",
   "id": "874d9aa4-a5cf-4afc-9f83-e5ce2996eb88",
   "metadata": {},
   "source": [
    "## Load pre-trained model"
   ]
  },
  {
   "cell_type": "code",
   "execution_count": 4,
   "id": "978ed90d-57a8-423e-b295-09cdcddf3f45",
   "metadata": {},
   "outputs": [],
   "source": [
    "model_type = 'vit_b'\n",
    "checkpoint = None\n",
    "\n",
    "if model_type==\"vit_h\":\n",
    "    checkpoint = '../Weights/sam_vit_h_4b8939.pth'\n",
    "elif model_type==\"vit_l\":\n",
    "    checkpoint = '../Weights/sam_vit_l_0b3195.pth' \n",
    "elif model_type==\"vit_b\":\n",
    "    checkpoint = '../Weights/sam_vit_b_01ec64.pth' \n",
    "    "
   ]
  },
  {
   "cell_type": "code",
   "execution_count": 5,
   "id": "698f7aaf-b458-4f37-9c20-63ec85575813",
   "metadata": {},
   "outputs": [
    {
     "name": "stderr",
     "output_type": "stream",
     "text": [
      "D:\\015_segmentation\\Custom_SAM\\Module\\sam\\build_sam.py:154: FutureWarning: You are using `torch.load` with `weights_only=False` (the current default value), which uses the default pickle module implicitly. It is possible to construct malicious pickle data which will execute arbitrary code during unpickling (See https://github.com/pytorch/pytorch/blob/main/SECURITY.md#untrusted-models for more details). In a future release, the default value for `weights_only` will be flipped to `True`. This limits the functions that could be executed during unpickling. Arbitrary objects will no longer be allowed to be loaded via this mode unless they are explicitly allowlisted by the user via `torch.serialization.add_safe_globals`. We recommend you start setting `weights_only=True` for any use case where you don't have full control of the loaded file. Please open an issue on GitHub for any issues related to this experimental feature.\n",
      "  state_dict = torch.load(f)\n"
     ]
    }
   ],
   "source": [
    "sam_model = sam_model_registry[model_type](checkpoint=checkpoint)\n",
    "sam_model.to(device)\n",
    "sam_model.train();"
   ]
  },
  {
   "cell_type": "code",
   "execution_count": 6,
   "id": "344cc8ab-c8a4-428d-a5bb-826e5b0bfc39",
   "metadata": {},
   "outputs": [],
   "source": [
    "enc_img_size = sam_model.image_encoder.img_size\n",
    "\n",
    "setting[\"model\"] = {}\n",
    "setting[\"model\"][\"type\"] = model_type\n",
    "setting[\"model\"][\"checkpoint\"] = checkpoint\n",
    "setting[\"model\"][\"enc_img_size\"] = enc_img_size"
   ]
  },
  {
   "cell_type": "markdown",
   "id": "f04cdc53-747f-412a-9877-cd2944294d2d",
   "metadata": {},
   "source": [
    "# Dataset"
   ]
  },
  {
   "cell_type": "code",
   "execution_count": 7,
   "id": "470656a0-c0dc-474e-a071-740023d2b975",
   "metadata": {},
   "outputs": [],
   "source": [
    "dataset_name = \"Danu_WS_v2\"\n",
    "desired_size=(enc_img_size, enc_img_size)"
   ]
  },
  {
   "cell_type": "markdown",
   "id": "67ff3d2f-510b-4c5c-a7ea-e3950465bd3d",
   "metadata": {},
   "source": [
    "## Train dataset\n"
   ]
  },
  {
   "cell_type": "markdown",
   "id": "a6b31527-5966-4aed-9ae7-912c8bfa6b37",
   "metadata": {},
   "source": [
    "### Transform"
   ]
  },
  {
   "cell_type": "code",
   "execution_count": 8,
   "id": "3acb4d9c-a6e5-480a-b886-186ef25a0a42",
   "metadata": {},
   "outputs": [],
   "source": [
    "darkness_transform = A.RandomBrightnessContrast(\n",
    "    brightness_limit=(-0.5, -0.2),  # 밝기 감소 범위\n",
    "    contrast_limit=0.1,  # 대비 조정 (옵션)\n",
    "    p=0.5\n",
    ")\n",
    "\n",
    "noise_transform = A.GaussNoise(var_limit=(10.0, 50.0), \n",
    "                               p=0.5)\n",
    "night_color_transform = A.OneOf([\n",
    "    A.HueSaturationValue(hue_shift_limit=0, \n",
    "                         sat_shift_limit=-30, \n",
    "                         val_shift_limit=-50, \n",
    "                         p=0.7),  # 어둡고 낮은 채도\n",
    "    A.RGBShift(r_shift_limit=-20, \n",
    "               g_shift_limit=-20, \n",
    "               b_shift_limit=30, \n",
    "               p=0.3)  # 밤 색조\n",
    "], p=1.0)\n",
    "\n",
    "contrast_transform = A.RandomBrightnessContrast(\n",
    "    brightness_limit=(-0.4, 0.2), \n",
    "    contrast_limit=(-0.2, 0.2),\n",
    "    p=0.7\n",
    ")"
   ]
  },
  {
   "cell_type": "code",
   "execution_count": 9,
   "id": "2e58a048-2fe4-40b0-b39b-673304f613f2",
   "metadata": {},
   "outputs": [],
   "source": [
    "train_transform = A.Compose([\n",
    "    darkness_transform,       # 어둡게 하기\n",
    "    noise_transform,          # 노이즈 추가\n",
    "    night_color_transform,    # 밤 색상 변환\n",
    "    contrast_transform,       # 대비 및 색상 조정\n",
    "    A.RandomShadow(p=0.5),\n",
    "    A.RandomRotate90(p=1),\n",
    "    A.RandomGridShuffle(p=0.5)\n",
    "])"
   ]
  },
  {
   "cell_type": "markdown",
   "id": "a52445c7-a8b7-4e87-a347-9eb118526bd9",
   "metadata": {},
   "source": [
    "### build train dataset"
   ]
  },
  {
   "cell_type": "code",
   "execution_count": 10,
   "id": "07965eef-50cc-4e7a-ad9f-2aa780982b75",
   "metadata": {},
   "outputs": [],
   "source": [
    "train_img_dir = r\"D:\\000_Datasets\\20.Water segmentation\\DANU_WS_v2\\train\\images\"\n",
    "train_gt_dir = r\"D:\\000_Datasets\\20.Water segmentation\\DANU_WS_v2\\train\\masks\""
   ]
  },
  {
   "cell_type": "code",
   "execution_count": 11,
   "id": "f20466a2-3f8b-4334-9c7f-462891893af5",
   "metadata": {},
   "outputs": [],
   "source": [
    "train_dataset = TrainDataset(train_img_dir, \n",
    "                             train_gt_dir, \n",
    "                             desired_size=desired_size,\n",
    "                             transform=train_transform)\n"
   ]
  },
  {
   "cell_type": "code",
   "execution_count": 12,
   "id": "b8bbd63e-f5c6-4201-a580-59070a442618",
   "metadata": {},
   "outputs": [],
   "source": [
    "train_loader=DataLoader(train_dataset, \n",
    "                        shuffle=True, \n",
    "                        batch_size=bs, \n",
    "                        num_workers=0)"
   ]
  },
  {
   "cell_type": "code",
   "execution_count": 13,
   "id": "3faa30bf-a948-4853-bc99-74f174e7369a",
   "metadata": {},
   "outputs": [],
   "source": [
    "setting[\"Train_dataset\"] = {}\n",
    "setting[\"Train_dataset\"][\"dataset_name\"] = dataset_name\n",
    "setting[\"Train_dataset\"][\"Directory\"] = train_img_dir\n",
    "setting[\"Train_dataset\"][\"shuffle\"] = True,\n",
    "setting[\"Train_dataset\"][\"desired_size\"] = desired_size\n",
    "setting[\"Train_dataset\"][\"Augmentation\"] = A.to_dict(train_transform)"
   ]
  },
  {
   "cell_type": "markdown",
   "id": "37239157-a356-4118-98e1-b33678153e2d",
   "metadata": {},
   "source": [
    "### Validation dataset"
   ]
  },
  {
   "cell_type": "code",
   "execution_count": 14,
   "id": "605bbdf7-f0ca-4f5b-b90f-ba0868b2a245",
   "metadata": {},
   "outputs": [],
   "source": [
    "val_img_dir = r\"D:\\000_Datasets\\20.Water segmentation\\DANU_WS_v2\\valid\\images\"\n",
    "val_gt_dir = r\"D:\\000_Datasets\\20.Water segmentation\\DANU_WS_v2\\valid\\masks\""
   ]
  },
  {
   "cell_type": "code",
   "execution_count": 15,
   "id": "09977b66-4cd7-43ff-88e8-5e6ae879245e",
   "metadata": {},
   "outputs": [],
   "source": [
    "val_dataset = ValDataset(val_img_dir, \n",
    "                         val_gt_dir,\n",
    "                         desired_size=desired_size)\n"
   ]
  },
  {
   "cell_type": "code",
   "execution_count": 16,
   "id": "add83ebe-5f9d-4156-b5c2-f17ba4bc5334",
   "metadata": {},
   "outputs": [],
   "source": [
    "val_loader=DataLoader(val_dataset, \n",
    "                        shuffle=False, \n",
    "                        batch_size=1, \n",
    "                        num_workers=0)"
   ]
  },
  {
   "cell_type": "code",
   "execution_count": 17,
   "id": "538180b3-76f6-4928-ab62-2279833ff587",
   "metadata": {},
   "outputs": [],
   "source": [
    "setting[\"Valid_dataset\"] = {}\n",
    "setting[\"Valid_dataset\"][\"dataset_name\"] = dataset_name\n",
    "setting[\"Valid_dataset\"][\"Directory\"] = val_img_dir\n",
    "setting[\"Valid_dataset\"][\"desired_size\"] = desired_size\n",
    "setting[\"Valid_dataset\"][\"shuffle\"] = False"
   ]
  },
  {
   "cell_type": "markdown",
   "id": "5ca02205-6ffe-4042-b7e8-0b30a7fcf41a",
   "metadata": {},
   "source": [
    "# setting "
   ]
  },
  {
   "cell_type": "markdown",
   "id": "06c82641-f451-480e-b218-2697762abf63",
   "metadata": {},
   "source": [
    "## Tunning-setting"
   ]
  },
  {
   "cell_type": "markdown",
   "id": "95891d6f-6ba0-4b7e-9e82-8aaad75448b1",
   "metadata": {},
   "source": [
    "### Optimizer"
   ]
  },
  {
   "cell_type": "code",
   "execution_count": 18,
   "id": "a36ca2dd-1a88-4851-9f46-bd76728e18cd",
   "metadata": {},
   "outputs": [],
   "source": [
    "if train_type == \"fine_tunning\":\n",
    "\n",
    "    optimizer = torch.optim.Adam(sam_model.mask_decoder.parameters(), \n",
    "                                 lr=lr, \n",
    "                                 weight_decay=0)\n",
    "elif train_type == \"full_train\":\n",
    "    optimizer = torch.optim.Adam(sam_model.parameters(), \n",
    "                                 lr=lr, \n",
    "                                 weight_decay=0)\n",
    "\n",
    "setting[\"train\"][\"optimizer\"] = \"adam\""
   ]
  },
  {
   "cell_type": "markdown",
   "id": "839395f1-3a3a-4adc-8255-ce34535af1af",
   "metadata": {},
   "source": [
    "### Loss"
   ]
  },
  {
   "cell_type": "code",
   "execution_count": 19,
   "id": "eff0c171-8478-4b88-9154-2346b4c08f3e",
   "metadata": {},
   "outputs": [],
   "source": [
    "loss_fn = torch.nn.BCEWithLogitsLoss() #torch.nn.MSELoss()\n",
    "\n",
    "setting[\"train\"][\"optimizer\"] = \"BCEwithLogits\""
   ]
  },
  {
   "cell_type": "markdown",
   "id": "ba64b1aa-a46a-4640-92ee-e674109ff44f",
   "metadata": {},
   "source": [
    "### Warm-up"
   ]
  },
  {
   "cell_type": "code",
   "execution_count": 20,
   "id": "e825df5c-af15-4022-9bc5-c78cd96274e9",
   "metadata": {},
   "outputs": [],
   "source": [
    "nw = 5\n",
    "scheduler = torch.optim.lr_scheduler.LambdaLR(optimizer, \n",
    "                                              lr_lambda=lambda epoch: epoch / nw  if epoch < nw else 1)\n",
    "\n",
    "setting[\"train\"][\"warm-up_epoch\"] = nw"
   ]
  },
  {
   "cell_type": "markdown",
   "id": "bdf07e5b-68d6-4ac9-80dc-e21b12fffc07",
   "metadata": {},
   "source": [
    "## Setting directory"
   ]
  },
  {
   "cell_type": "code",
   "execution_count": 21,
   "id": "ec8ffc21-6aa2-4af5-9244-5338f7c5d1a9",
   "metadata": {},
   "outputs": [],
   "source": [
    "def check_dir(dir):\n",
    "    if not os.path.exists(dir):\n",
    "        os.makedirs(dir)\n",
    "        \n",
    "def get_output_dir(base_dir, model_type, dataset_type, note=\"\"):\n",
    "    \n",
    "    now = datetime.datetime.now()\n",
    "    formattedDate = now.strftime(\"%Y%m%d\")[2:]\n",
    "    \n",
    "\n",
    "    save_dir_name = f\"{formattedDate}_{model_type}_on_{dataset_type}_{note}\" \n",
    "    \n",
    "    \n",
    "    weight_dir = os.path.join(base_dir, save_dir_name)\n",
    "    \n",
    "    fig_dir = os.path.join(weight_dir,\"figures\")\n",
    "    \n",
    "    return weight_dir, fig_dir\n",
    "    "
   ]
  },
  {
   "cell_type": "code",
   "execution_count": 22,
   "id": "22466d3a-f088-4bef-b06a-6ca8632e981d",
   "metadata": {},
   "outputs": [
    {
     "name": "stdout",
     "output_type": "stream",
     "text": [
      "../runs/241202_vit_b_on_Danu_WS_v2_ft_only_decoder_with_pos_and_neg_v4\n"
     ]
    }
   ],
   "source": [
    "base_dir = \"../runs/\"\n",
    "note = \"ft_only_decoder_with_pos_and_neg_v4\"\n",
    "output_checkpoint_dir, figure_dir = get_output_dir(base_dir, model_type, dataset_name, note)\n",
    "\n",
    "print(output_checkpoint_dir)"
   ]
  },
  {
   "cell_type": "code",
   "execution_count": 23,
   "id": "a4e7e0d6-99ca-4d1c-8a21-9b8108b70574",
   "metadata": {},
   "outputs": [],
   "source": [
    "check_dir(output_checkpoint_dir)\n",
    "check_dir(figure_dir)"
   ]
  },
  {
   "cell_type": "code",
   "execution_count": 24,
   "id": "a8523ada-c362-4ed2-be60-8d49b82e616a",
   "metadata": {},
   "outputs": [],
   "source": [
    "output_checkpoint_path = os.path.join(output_checkpoint_dir, \n",
    "                                      \"best.pth\")"
   ]
  },
  {
   "cell_type": "markdown",
   "id": "23009737-0bd3-492e-acc1-59ec982cd2b9",
   "metadata": {},
   "source": [
    "## Save setting"
   ]
  },
  {
   "cell_type": "code",
   "execution_count": 25,
   "id": "91d5217a-ce7c-4a56-91c5-2843e9741bb6",
   "metadata": {},
   "outputs": [],
   "source": [
    "output_json_path = os.path.join(output_checkpoint_dir, \"setting.json\")\n",
    "output_json = setting2json(setting)\n",
    "\n",
    "with open(output_json_path, 'w', encoding='UTF-8') as outfile:\n",
    "    json.dump(output_json, outfile, indent=4)"
   ]
  },
  {
   "cell_type": "markdown",
   "id": "b96a0b45-1138-4ecf-85e6-34ed1e190ec8",
   "metadata": {},
   "source": [
    "## Setting recoder"
   ]
  },
  {
   "cell_type": "code",
   "execution_count": 26,
   "id": "1a42e65c-3769-42c7-9e69-1fe30fbcf6a9",
   "metadata": {},
   "outputs": [],
   "source": [
    "log_path = os.path.join(output_checkpoint_dir, \"train_logs.txt\")\n",
    "recoder = TextWriter(log_path)"
   ]
  },
  {
   "cell_type": "markdown",
   "id": "b63e735e-2165-4917-9503-7c709b38cc2e",
   "metadata": {},
   "source": [
    "### Setting"
   ]
  },
  {
   "cell_type": "code",
   "execution_count": null,
   "id": "a66c8f55-ad0a-459a-993a-922c216a4722",
   "metadata": {},
   "outputs": [
    {
     "name": "stderr",
     "output_type": "stream",
     "text": [
      "100%|██████████████████████████████████████████████████████████████████████████████| 1260/1260 [20:02<00:00,  1.05it/s]\n"
     ]
    },
    {
     "name": "stdout",
     "output_type": "stream",
     "text": [
      "[0] Mean training loss: 0.719346374415216\n",
      "[0] Mean training accuracy: 0.684337610290164\n"
     ]
    },
    {
     "name": "stderr",
     "output_type": "stream",
     "text": [
      "100%|████████████████████████████████████████████████████████████████████████████████| 359/359 [02:35<00:00,  2.31it/s]\n"
     ]
    },
    {
     "name": "stdout",
     "output_type": "stream",
     "text": [
      "[0] Mean validation loss: 0.6817650120072378\n",
      "[0] Mean validation accuracy: 0.7398429248990455\n"
     ]
    },
    {
     "name": "stderr",
     "output_type": "stream",
     "text": [
      " 23%|█████████████████▊                                                             | 285/1260 [04:39<15:56,  1.02it/s]"
     ]
    }
   ],
   "source": [
    "best_val_loss = float('inf')\n",
    "\n",
    "for epoch in range(N_epoch):\n",
    "    epoch_train_loss, epoch_train_accuracy = tune_one_epoch(model=sam_model,\n",
    "                                                             data_loader=train_loader,\n",
    "                                                             optimizer=optimizer,\n",
    "                                                             loss_fn=loss_fn,\n",
    "                                                             device=device)\n",
    "    train_txt1 = f'[{epoch}] Mean training loss: {epoch_train_loss}'\n",
    "    train_txt2 = f'[{epoch}] Mean training accuracy: {epoch_train_accuracy}'\n",
    "    print(train_txt1)\n",
    "    print(train_txt2)\n",
    "    recoder.add_line(train_txt1+\"\\n\")\n",
    "    recoder.add_line(train_txt2+\"\\n\")\n",
    "    \n",
    "    epoch_val_loss, epoch_val_accuracy = val_one_epoch(model=sam_model,\n",
    "                                                       data_loader=val_loader,\n",
    "                                                       loss_fn=loss_fn,\n",
    "                                                       device=device)\n",
    "    # Validation loop\n",
    "    # Calculate mean validation loss for the current epoch\n",
    "    val_txt1 = f'[{epoch}] Mean validation loss: {epoch_val_loss}'\n",
    "    print(val_txt1)\n",
    "\n",
    "    # Calculate mean validation accuracy for the current epoch\n",
    "    val_txt2 = f'[{epoch}] Mean validation accuracy: {epoch_val_accuracy}'\n",
    "    print(val_txt2)\n",
    "    \n",
    "    recoder.add_line(val_txt1+\"\\n\")\n",
    "    recoder.add_line(val_txt2+\"\\n\")\n",
    "    # Save the model checkpoint if the validation accuracy improves\n",
    "    if epoch_val_loss < best_val_loss:\n",
    "        best_val_loss = epoch_val_loss\n",
    "        torch.save(sam_model.state_dict(), output_checkpoint_path)\n",
    "\n",
    "    # Clear GPU cache after each epoch\n",
    "    scheduler.step()\n",
    "    torch.cuda.empty_cache()\n"
   ]
  },
  {
   "cell_type": "code",
   "execution_count": null,
   "id": "2aa8af85-317e-4b8a-84f6-0b516296b013",
   "metadata": {},
   "outputs": [],
   "source": []
  },
  {
   "cell_type": "code",
   "execution_count": null,
   "id": "33c7c33e-ce3e-4939-b6dc-fa7cf0aae9e5",
   "metadata": {},
   "outputs": [],
   "source": []
  },
  {
   "cell_type": "code",
   "execution_count": null,
   "id": "d40ce5b0-4c02-4cff-9054-2a0e1b262a52",
   "metadata": {},
   "outputs": [],
   "source": []
  },
  {
   "cell_type": "code",
   "execution_count": null,
   "id": "d20660b2-ea3f-4d2d-99a5-e755a0b7aa0c",
   "metadata": {},
   "outputs": [],
   "source": []
  }
 ],
 "metadata": {
  "kernelspec": {
   "display_name": "sam",
   "language": "python",
   "name": "sam"
  },
  "language_info": {
   "codemirror_mode": {
    "name": "ipython",
    "version": 3
   },
   "file_extension": ".py",
   "mimetype": "text/x-python",
   "name": "python",
   "nbconvert_exporter": "python",
   "pygments_lexer": "ipython3",
   "version": "3.10.15"
  }
 },
 "nbformat": 4,
 "nbformat_minor": 5
}
