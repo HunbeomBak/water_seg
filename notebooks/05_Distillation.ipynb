{
 "cells": [
  {
   "cell_type": "code",
   "execution_count": 1,
   "id": "4ca4b4ba-8a55-45c1-9d62-0537eb1bab2d",
   "metadata": {},
   "outputs": [
    {
     "name": "stderr",
     "output_type": "stream",
     "text": [
      "C:\\Users\\danusys\\anaconda3\\envs\\nanosam\\lib\\site-packages\\tqdm\\auto.py:21: TqdmWarning: IProgress not found. Please update jupyter and ipywidgets. See https://ipywidgets.readthedocs.io/en/stable/user_install.html\n",
      "  from .autonotebook import tqdm as notebook_tqdm\n",
      "C:\\Users\\danusys\\anaconda3\\envs\\nanosam\\lib\\site-packages\\albumentations\\__init__.py:24: UserWarning: A new version of Albumentations is available: 1.4.21 (you have 1.4.20). Upgrade using: pip install -U albumentations. To disable automatic update checks, set the environment variable NO_ALBUMENTATIONS_UPDATE to 1.\n",
      "  check_for_updates()\n",
      "C:\\Users\\danusys\\anaconda3\\envs\\nanosam\\lib\\site-packages\\timm\\models\\layers\\__init__.py:48: FutureWarning: Importing from timm.models.layers is deprecated, please import via timm.layers\n",
      "  warnings.warn(f\"Importing from {__name__} is deprecated, please import via timm.layers\", FutureWarning)\n",
      "C:\\Users\\danusys\\anaconda3\\envs\\nanosam\\lib\\site-packages\\timm\\models\\registry.py:4: FutureWarning: Importing from timm.models.registry is deprecated, please import via timm.models\n",
      "  warnings.warn(f\"Importing from {__name__} is deprecated, please import via timm.models\", FutureWarning)\n",
      "d:\\watersegmentation\\mobilesam\\mobile_sam\\modeling\\tiny_vit_sam.py:656: UserWarning: Overwriting tiny_vit_5m_224 in registry with mobile_sam.modeling.tiny_vit_sam.tiny_vit_5m_224. This is because the name being registered conflicts with an existing name. Please check if this is not expected.\n",
      "  return register_model(fn_wrapper)\n",
      "d:\\watersegmentation\\mobilesam\\mobile_sam\\modeling\\tiny_vit_sam.py:656: UserWarning: Overwriting tiny_vit_11m_224 in registry with mobile_sam.modeling.tiny_vit_sam.tiny_vit_11m_224. This is because the name being registered conflicts with an existing name. Please check if this is not expected.\n",
      "  return register_model(fn_wrapper)\n",
      "d:\\watersegmentation\\mobilesam\\mobile_sam\\modeling\\tiny_vit_sam.py:656: UserWarning: Overwriting tiny_vit_21m_224 in registry with mobile_sam.modeling.tiny_vit_sam.tiny_vit_21m_224. This is because the name being registered conflicts with an existing name. Please check if this is not expected.\n",
      "  return register_model(fn_wrapper)\n",
      "d:\\watersegmentation\\mobilesam\\mobile_sam\\modeling\\tiny_vit_sam.py:656: UserWarning: Overwriting tiny_vit_21m_384 in registry with mobile_sam.modeling.tiny_vit_sam.tiny_vit_21m_384. This is because the name being registered conflicts with an existing name. Please check if this is not expected.\n",
      "  return register_model(fn_wrapper)\n",
      "d:\\watersegmentation\\mobilesam\\mobile_sam\\modeling\\tiny_vit_sam.py:656: UserWarning: Overwriting tiny_vit_21m_512 in registry with mobile_sam.modeling.tiny_vit_sam.tiny_vit_21m_512. This is because the name being registered conflicts with an existing name. Please check if this is not expected.\n",
      "  return register_model(fn_wrapper)\n"
     ]
    }
   ],
   "source": [
    "import os\n",
    "\n",
    "import torch\n",
    "import torch.nn.functional as F\n",
    "import matplotlib.pyplot as plt\n",
    "from torch.utils.data import DataLoader\n",
    "from torchvision.transforms import Compose, ToTensor, Normalize, RandomResizedCrop, RandomRotation\n",
    "from tqdm import tqdm\n",
    "\n",
    "import albumentations as A\n",
    "from albumentations.pytorch import ToTensorV2\n",
    "\n",
    "from Module.models.timm_image_encoder import TimmImageEncoder\n",
    "from Module.dataset.image_folder import ImageFolder\n",
    "\n",
    "from mobile_sam import SamPredictor, sam_model_registry\n",
    "from mobile_sam.modeling.sam import Sam"
   ]
  },
  {
   "cell_type": "markdown",
   "id": "b9e150ed-630f-4858-8783-178e8bde4336",
   "metadata": {},
   "source": [
    "## Config setting"
   ]
  },
  {
   "cell_type": "code",
   "execution_count": 2,
   "id": "298d49de-1317-4dc7-af69-23a050fa9018",
   "metadata": {},
   "outputs": [],
   "source": [
    "lr = 3e-4\n",
    "bs = 4\n",
    "N_epoch = 100\n",
    "device = torch.device(\"cuda\" if torch.cuda.is_available() else \"cpu\")"
   ]
  },
  {
   "cell_type": "code",
   "execution_count": 3,
   "id": "6e12cedc-7e72-4722-b3f2-5328f19a9f47",
   "metadata": {},
   "outputs": [
    {
     "name": "stdout",
     "output_type": "stream",
     "text": [
      "cuda\n"
     ]
    }
   ],
   "source": [
    "print(device)"
   ]
  },
  {
   "cell_type": "markdown",
   "id": "926c134d-089b-435a-a1b1-ab40e672b059",
   "metadata": {},
   "source": [
    "## Models\n",
    "### Teacher model"
   ]
  },
  {
   "cell_type": "code",
   "execution_count": 4,
   "id": "f7c2a49b-d9c1-4a52-a281-4de85eea8448",
   "metadata": {},
   "outputs": [],
   "source": [
    "model_type_t = 'vit_l'\n",
    "checkpoint_t = './Weights/sam_vit_l_0b3195.pth'\n",
    "\n",
    "model_t = sam_model_registry[model_type_t](checkpoint=checkpoint_t)\n",
    "model_t.to(device)\n",
    "model_t.eval();"
   ]
  },
  {
   "cell_type": "markdown",
   "id": "35c3bb65-6371-4845-88a8-411d5cd4b4b6",
   "metadata": {},
   "source": [
    "### Student model"
   ]
  },
  {
   "cell_type": "code",
   "execution_count": 5,
   "id": "f86cae5c-6bcb-4d5b-a4a9-b58105b5e2d6",
   "metadata": {},
   "outputs": [],
   "source": [
    "model_type_s = 'resnet18'\n",
    "\n",
    "model_s = TimmImageEncoder('resnet18', pretrained=True)\n",
    "model_s.to(device);\n",
    "model_s.train();"
   ]
  },
  {
   "cell_type": "markdown",
   "id": "30cddcf6-eaba-4054-9bdf-9dbc830b978f",
   "metadata": {
    "tags": []
   },
   "source": [
    "## Dataset\n",
    "### Train dataset"
   ]
  },
  {
   "cell_type": "markdown",
   "id": "52027d2b-bae3-419f-8831-55610b2a6110",
   "metadata": {},
   "source": [
    "### Transform"
   ]
  },
  {
   "cell_type": "code",
   "execution_count": 6,
   "id": "90d2f0cb-0218-4be8-aebd-d3cdd4f244a6",
   "metadata": {},
   "outputs": [],
   "source": [
    "transform = A.Compose([\n",
    "    A.ColorJitter(p=0.7),\n",
    "    A.RandomResizedCrop((1024, 1024)),\n",
    "    A.Rotate((-90,90)),\n",
    "    A.Normalize(\n",
    "        mean=[123.675/255, 116.28/255, 103.53/255],\n",
    "        std=[58.395/255, 57.12/255, 57.375/255]\n",
    "    ),\n",
    "    ToTensorV2(),\n",
    "    ])"
   ]
  },
  {
   "cell_type": "code",
   "execution_count": 7,
   "id": "807c38a9-5485-4f40-ae5b-fdf94391798d",
   "metadata": {},
   "outputs": [],
   "source": [
    "dataset_dir = r\"D:\\WaterSegmentation\\Datasets\\DANU_WS_v1\\train\\images\""
   ]
  },
  {
   "cell_type": "code",
   "execution_count": 8,
   "id": "13104bff-38f6-4b36-a0e8-d94990ee1ffb",
   "metadata": {},
   "outputs": [],
   "source": [
    "dataset = ImageFolder(dataset_dir, \n",
    "                      transform=transform)"
   ]
  },
  {
   "cell_type": "code",
   "execution_count": 9,
   "id": "6f0749e2-bd75-47f8-9607-0e886b1dc193",
   "metadata": {},
   "outputs": [],
   "source": [
    "loader = DataLoader(dataset, shuffle=True, batch_size=bs, num_workers=8)"
   ]
  },
  {
   "cell_type": "markdown",
   "id": "cb3dc46c-c8cb-4397-9b5a-0c0deb7d741b",
   "metadata": {},
   "source": [
    "## Train setting\n",
    "### Loss"
   ]
  },
  {
   "cell_type": "code",
   "execution_count": 10,
   "id": "0168cb6f-7fef-4d4b-b735-36a0560dcde8",
   "metadata": {},
   "outputs": [],
   "source": [
    "loss_function = F.huber_loss\n",
    "\n",
    "#loss_function = F.mse_loss"
   ]
  },
  {
   "cell_type": "markdown",
   "id": "9cecc9ae-2b76-4db4-bfbd-89eb0f42c1ae",
   "metadata": {},
   "source": [
    "### Optimizer"
   ]
  },
  {
   "cell_type": "code",
   "execution_count": 11,
   "id": "3b789359-c498-4902-a90f-e5d28796c9b3",
   "metadata": {},
   "outputs": [],
   "source": [
    "optimizer = torch.optim.Adam(model_s.parameters(), \n",
    "                             lr=lr)"
   ]
  },
  {
   "cell_type": "markdown",
   "id": "d57c438a-aed5-429c-b5f0-833a173ab9b0",
   "metadata": {},
   "source": [
    "### Save dir"
   ]
  },
  {
   "cell_type": "code",
   "execution_count": 12,
   "id": "3c6b15cc-2b25-4113-846b-ab8821876e78",
   "metadata": {},
   "outputs": [],
   "source": [
    "output_checkpoint_dir = \"./runs/\"\n",
    "output_checkpoint_dir = os.path.join(output_checkpoint_dir, \"241111_vit-l_to_resnet18_v1\")\n",
    "\n",
    "if not os.path.exists(output_checkpoint_dir):\n",
    "    os.makedirs(output_checkpoint_dir)\n",
    "    \n",
    "output_checkpoint_path = os.path.join(output_checkpoint_dir, \n",
    "                                      \"Nanosam_encoder.pth\")"
   ]
  },
  {
   "cell_type": "markdown",
   "id": "6791481d-0a75-463f-a853-cb79eb7ba9a6",
   "metadata": {},
   "source": [
    "## Train"
   ]
  },
  {
   "cell_type": "code",
   "execution_count": 13,
   "id": "7df0c78b-0bb7-4055-9d65-85cdde6c1c6c",
   "metadata": {},
   "outputs": [
    {
     "name": "stderr",
     "output_type": "stream",
     "text": [
      "100%|████████████████████████████████████████████████████████████████████████████████| 532/532 [10:01<00:00,  1.13s/it]\n"
     ]
    },
    {
     "name": "stdout",
     "output_type": "stream",
     "text": [
      "0 Epoch -Loss: 0.005594294662657369\n"
     ]
    },
    {
     "name": "stderr",
     "output_type": "stream",
     "text": [
      "Clipping input data to the valid range for imshow with RGB data ([0..1] for floats or [0..255] for integers). Got range [-2.117904..2.6399999].\n",
      "100%|████████████████████████████████████████████████████████████████████████████████| 532/532 [09:56<00:00,  1.12s/it]\n"
     ]
    },
    {
     "name": "stdout",
     "output_type": "stream",
     "text": [
      "1 Epoch -Loss: 0.004398151685105623\n"
     ]
    },
    {
     "name": "stderr",
     "output_type": "stream",
     "text": [
      "Clipping input data to the valid range for imshow with RGB data ([0..1] for floats or [0..255] for integers). Got range [-1.8610326..1.8208278].\n",
      "100%|████████████████████████████████████████████████████████████████████████████████| 532/532 [09:57<00:00,  1.12s/it]\n"
     ]
    },
    {
     "name": "stdout",
     "output_type": "stream",
     "text": [
      "2 Epoch -Loss: 0.003935345372839838\n"
     ]
    },
    {
     "name": "stderr",
     "output_type": "stream",
     "text": [
      "Clipping input data to the valid range for imshow with RGB data ([0..1] for floats or [0..255] for integers). Got range [-2.117904..2.6399999].\n",
      "100%|████████████████████████████████████████████████████████████████████████████████| 532/532 [09:57<00:00,  1.12s/it]\n"
     ]
    },
    {
     "name": "stdout",
     "output_type": "stream",
     "text": [
      "3 Epoch -Loss: 0.0036950096850374477\n"
     ]
    },
    {
     "name": "stderr",
     "output_type": "stream",
     "text": [
      "Clipping input data to the valid range for imshow with RGB data ([0..1] for floats or [0..255] for integers). Got range [-2.117904..2.6399999].\n",
      "100%|████████████████████████████████████████████████████████████████████████████████| 532/532 [09:55<00:00,  1.12s/it]\n"
     ]
    },
    {
     "name": "stdout",
     "output_type": "stream",
     "text": [
      "4 Epoch -Loss: 0.0035395070799290294\n"
     ]
    },
    {
     "name": "stderr",
     "output_type": "stream",
     "text": [
      "Clipping input data to the valid range for imshow with RGB data ([0..1] for floats or [0..255] for integers). Got range [-2.117904..1.8731154].\n",
      "100%|████████████████████████████████████████████████████████████████████████████████| 532/532 [09:54<00:00,  1.12s/it]\n"
     ]
    },
    {
     "name": "stdout",
     "output_type": "stream",
     "text": [
      "5 Epoch -Loss: 0.003407896336612705\n"
     ]
    },
    {
     "name": "stderr",
     "output_type": "stream",
     "text": [
      "Clipping input data to the valid range for imshow with RGB data ([0..1] for floats or [0..255] for integers). Got range [-2.1007793..2.2739868].\n",
      "100%|████████████████████████████████████████████████████████████████████████████████| 532/532 [09:54<00:00,  1.12s/it]\n"
     ]
    },
    {
     "name": "stdout",
     "output_type": "stream",
     "text": [
      "6 Epoch -Loss: 0.003308972118411885\n"
     ]
    },
    {
     "name": "stderr",
     "output_type": "stream",
     "text": [
      "Clipping input data to the valid range for imshow with RGB data ([0..1] for floats or [0..255] for integers). Got range [-1.8610326..2.6399999].\n",
      "100%|████████████████████████████████████████████████████████████████████████████████| 532/532 [09:55<00:00,  1.12s/it]\n"
     ]
    },
    {
     "name": "stdout",
     "output_type": "stream",
     "text": [
      "7 Epoch -Loss: 0.0032379650930993093\n"
     ]
    },
    {
     "name": "stderr",
     "output_type": "stream",
     "text": [
      "Clipping input data to the valid range for imshow with RGB data ([0..1] for floats or [0..255] for integers). Got range [-2.117904..2.5877123].\n",
      "100%|████████████████████████████████████████████████████████████████████████████████| 532/532 [09:54<00:00,  1.12s/it]\n"
     ]
    },
    {
     "name": "stdout",
     "output_type": "stream",
     "text": [
      "8 Epoch -Loss: 0.0031505013366152804\n"
     ]
    },
    {
     "name": "stderr",
     "output_type": "stream",
     "text": [
      "Clipping input data to the valid range for imshow with RGB data ([0..1] for floats or [0..255] for integers). Got range [-2.117904..2.465708].\n",
      "100%|████████████████████████████████████████████████████████████████████████████████| 532/532 [09:55<00:00,  1.12s/it]\n"
     ]
    },
    {
     "name": "stdout",
     "output_type": "stream",
     "text": [
      "9 Epoch -Loss: 0.003109928613083955\n"
     ]
    },
    {
     "name": "stderr",
     "output_type": "stream",
     "text": [
      "Clipping input data to the valid range for imshow with RGB data ([0..1] for floats or [0..255] for integers). Got range [-1.415789..2.6399999].\n",
      "100%|████████████████████████████████████████████████████████████████████████████████| 532/532 [10:01<00:00,  1.13s/it]\n"
     ]
    },
    {
     "name": "stdout",
     "output_type": "stream",
     "text": [
      "10 Epoch -Loss: 0.00306277062798171\n"
     ]
    },
    {
     "name": "stderr",
     "output_type": "stream",
     "text": [
      "Clipping input data to the valid range for imshow with RGB data ([0..1] for floats or [0..255] for integers). Got range [-1.9809059..2.3611329].\n",
      "100%|████████████████████████████████████████████████████████████████████████████████| 532/532 [10:00<00:00,  1.13s/it]\n"
     ]
    },
    {
     "name": "stdout",
     "output_type": "stream",
     "text": [
      "11 Epoch -Loss: 0.0030064552114695254\n"
     ]
    },
    {
     "name": "stderr",
     "output_type": "stream",
     "text": [
      "Clipping input data to the valid range for imshow with RGB data ([0..1] for floats or [0..255] for integers). Got range [-2.117904..2.6399999].\n",
      "100%|████████████████████████████████████████████████████████████████████████████████| 532/532 [10:00<00:00,  1.13s/it]\n"
     ]
    },
    {
     "name": "stdout",
     "output_type": "stream",
     "text": [
      "12 Epoch -Loss: 0.002972770090603543\n"
     ]
    },
    {
     "name": "stderr",
     "output_type": "stream",
     "text": [
      "Clipping input data to the valid range for imshow with RGB data ([0..1] for floats or [0..255] for integers). Got range [-1.8439078..2.4134204].\n",
      "100%|████████████████████████████████████████████████████████████████████████████████| 532/532 [10:00<00:00,  1.13s/it]\n"
     ]
    },
    {
     "name": "stdout",
     "output_type": "stream",
     "text": [
      "13 Epoch -Loss: 0.00295667562028043\n"
     ]
    },
    {
     "name": "stderr",
     "output_type": "stream",
     "text": [
      "Clipping input data to the valid range for imshow with RGB data ([0..1] for floats or [0..255] for integers). Got range [-1.8439078..1.7336819].\n",
      "100%|████████████████████████████████████████████████████████████████████████████████| 532/532 [09:55<00:00,  1.12s/it]\n"
     ]
    },
    {
     "name": "stdout",
     "output_type": "stream",
     "text": [
      "14 Epoch -Loss: 0.0029055230911204915\n"
     ]
    },
    {
     "name": "stderr",
     "output_type": "stream",
     "text": [
      "Clipping input data to the valid range for imshow with RGB data ([0..1] for floats or [0..255] for integers). Got range [-2.117904..2.6051416].\n",
      "100%|████████████████████████████████████████████████████████████████████████████████| 532/532 [09:54<00:00,  1.12s/it]\n"
     ]
    },
    {
     "name": "stdout",
     "output_type": "stream",
     "text": [
      "15 Epoch -Loss: 0.002870185093698617\n"
     ]
    },
    {
     "name": "stderr",
     "output_type": "stream",
     "text": [
      "Clipping input data to the valid range for imshow with RGB data ([0..1] for floats or [0..255] for integers). Got range [-2.117904..1.8731154].\n",
      "100%|████████████████████████████████████████████████████████████████████████████████| 532/532 [09:54<00:00,  1.12s/it]\n"
     ]
    },
    {
     "name": "stdout",
     "output_type": "stream",
     "text": [
      "16 Epoch -Loss: 0.0028345964674372226\n"
     ]
    },
    {
     "name": "stderr",
     "output_type": "stream",
     "text": [
      "Clipping input data to the valid range for imshow with RGB data ([0..1] for floats or [0..255] for integers). Got range [-1.2787911..2.5877123].\n",
      "100%|████████████████████████████████████████████████████████████████████████████████| 532/532 [09:58<00:00,  1.13s/it]\n"
     ]
    },
    {
     "name": "stdout",
     "output_type": "stream",
     "text": [
      "17 Epoch -Loss: 0.0028360787528756083\n"
     ]
    },
    {
     "name": "stderr",
     "output_type": "stream",
     "text": [
      "Clipping input data to the valid range for imshow with RGB data ([0..1] for floats or [0..255] for integers). Got range [-2.117904..2.6399999].\n",
      "100%|████████████████████████████████████████████████████████████████████████████████| 532/532 [09:59<00:00,  1.13s/it]\n"
     ]
    },
    {
     "name": "stdout",
     "output_type": "stream",
     "text": [
      "18 Epoch -Loss: 0.0027989385206658476\n"
     ]
    },
    {
     "name": "stderr",
     "output_type": "stream",
     "text": [
      "Clipping input data to the valid range for imshow with RGB data ([0..1] for floats or [0..255] for integers). Got range [-1.6726604..2.3437037].\n",
      "100%|████████████████████████████████████████████████████████████████████████████████| 532/532 [10:00<00:00,  1.13s/it]\n"
     ]
    },
    {
     "name": "stdout",
     "output_type": "stream",
     "text": [
      "19 Epoch -Loss: 0.002835724386824225\n"
     ]
    },
    {
     "name": "stderr",
     "output_type": "stream",
     "text": [
      "Clipping input data to the valid range for imshow with RGB data ([0..1] for floats or [0..255] for integers). Got range [-1.7069099..2.448279].\n",
      "100%|████████████████████████████████████████████████████████████████████████████████| 532/532 [09:59<00:00,  1.13s/it]\n"
     ]
    },
    {
     "name": "stdout",
     "output_type": "stream",
     "text": [
      "20 Epoch -Loss: 0.0027760752361649437\n"
     ]
    },
    {
     "name": "stderr",
     "output_type": "stream",
     "text": [
      "Clipping input data to the valid range for imshow with RGB data ([0..1] for floats or [0..255] for integers). Got range [-2.117904..1.925403].\n",
      "100%|████████████████████████████████████████████████████████████████████████████████| 532/532 [09:56<00:00,  1.12s/it]\n"
     ]
    },
    {
     "name": "stdout",
     "output_type": "stream",
     "text": [
      "21 Epoch -Loss: 0.0027375132684889984\n"
     ]
    },
    {
     "name": "stderr",
     "output_type": "stream",
     "text": [
      "Clipping input data to the valid range for imshow with RGB data ([0..1] for floats or [0..255] for integers). Got range [-2.117904..2.4831371].\n",
      "100%|████████████████████████████████████████████████████████████████████████████████| 532/532 [09:57<00:00,  1.12s/it]\n"
     ]
    },
    {
     "name": "stdout",
     "output_type": "stream",
     "text": [
      "22 Epoch -Loss: 0.002721437543002132\n"
     ]
    },
    {
     "name": "stderr",
     "output_type": "stream",
     "text": [
      "Clipping input data to the valid range for imshow with RGB data ([0..1] for floats or [0..255] for integers). Got range [-2.117904..2.6399999].\n",
      "100%|████████████████████████████████████████████████████████████████████████████████| 532/532 [09:57<00:00,  1.12s/it]\n"
     ]
    },
    {
     "name": "stdout",
     "output_type": "stream",
     "text": [
      "23 Epoch -Loss: 0.0027080079428133856\n"
     ]
    },
    {
     "name": "stderr",
     "output_type": "stream",
     "text": [
      "Clipping input data to the valid range for imshow with RGB data ([0..1] for floats or [0..255] for integers). Got range [-2.117904..2.0959382].\n",
      "100%|████████████████████████████████████████████████████████████████████████████████| 532/532 [10:00<00:00,  1.13s/it]\n"
     ]
    },
    {
     "name": "stdout",
     "output_type": "stream",
     "text": [
      "24 Epoch -Loss: 0.002691705467413999\n"
     ]
    },
    {
     "name": "stderr",
     "output_type": "stream",
     "text": [
      "Clipping input data to the valid range for imshow with RGB data ([0..1] for floats or [0..255] for integers). Got range [-1.8781574..2.3262744].\n",
      "100%|████████████████████████████████████████████████████████████████████████████████| 532/532 [10:01<00:00,  1.13s/it]\n"
     ]
    },
    {
     "name": "stdout",
     "output_type": "stream",
     "text": [
      "25 Epoch -Loss: 0.0026713338340510076\n"
     ]
    },
    {
     "name": "stderr",
     "output_type": "stream",
     "text": [
      "Clipping input data to the valid range for imshow with RGB data ([0..1] for floats or [0..255] for integers). Got range [-1.9306722..2.3088453].\n",
      "100%|████████████████████████████████████████████████████████████████████████████████| 532/532 [09:59<00:00,  1.13s/it]\n"
     ]
    },
    {
     "name": "stdout",
     "output_type": "stream",
     "text": [
      "26 Epoch -Loss: 0.002656434391952589\n"
     ]
    },
    {
     "name": "stderr",
     "output_type": "stream",
     "text": [
      "Clipping input data to the valid range for imshow with RGB data ([0..1] for floats or [0..255] for integers). Got range [-2.117904..2.6399999].\n",
      "100%|████████████████████████████████████████████████████████████████████████████████| 532/532 [09:56<00:00,  1.12s/it]\n"
     ]
    },
    {
     "name": "stdout",
     "output_type": "stream",
     "text": [
      "27 Epoch -Loss: 0.002647067502900762\n"
     ]
    },
    {
     "name": "stderr",
     "output_type": "stream",
     "text": [
      "Clipping input data to the valid range for imshow with RGB data ([0..1] for floats or [0..255] for integers). Got range [-2.117904..2.6051416].\n",
      "100%|████████████████████████████████████████████████████████████████████████████████| 532/532 [09:58<00:00,  1.13s/it]\n"
     ]
    },
    {
     "name": "stdout",
     "output_type": "stream",
     "text": [
      "28 Epoch -Loss: 0.002646394438745762\n"
     ]
    },
    {
     "name": "stderr",
     "output_type": "stream",
     "text": [
      "Clipping input data to the valid range for imshow with RGB data ([0..1] for floats or [0..255] for integers). Got range [-2.0151553..2.6399999].\n",
      "100%|████████████████████████████████████████████████████████████████████████████████| 532/532 [10:00<00:00,  1.13s/it]\n"
     ]
    },
    {
     "name": "stdout",
     "output_type": "stream",
     "text": [
      "29 Epoch -Loss: 0.0026208046763344086\n"
     ]
    },
    {
     "name": "stderr",
     "output_type": "stream",
     "text": [
      "Clipping input data to the valid range for imshow with RGB data ([0..1] for floats or [0..255] for integers). Got range [-2.117904..2.6399999].\n",
      "100%|████████████████████████████████████████████████████████████████████████████████| 532/532 [09:59<00:00,  1.13s/it]\n"
     ]
    },
    {
     "name": "stdout",
     "output_type": "stream",
     "text": [
      "30 Epoch -Loss: 0.002606830412182341\n"
     ]
    },
    {
     "name": "stderr",
     "output_type": "stream",
     "text": [
      "Clipping input data to the valid range for imshow with RGB data ([0..1] for floats or [0..255] for integers). Got range [-1.8952821..1.7107842].\n",
      "100%|████████████████████████████████████████████████████████████████████████████████| 532/532 [09:59<00:00,  1.13s/it]\n"
     ]
    },
    {
     "name": "stdout",
     "output_type": "stream",
     "text": [
      "31 Epoch -Loss: 0.0025891444689149557\n"
     ]
    },
    {
     "name": "stderr",
     "output_type": "stream",
     "text": [
      "Clipping input data to the valid range for imshow with RGB data ([0..1] for floats or [0..255] for integers). Got range [-2.117904..2.6399999].\n",
      "100%|████████████████████████████████████████████████████████████████████████████████| 532/532 [09:58<00:00,  1.13s/it]\n"
     ]
    },
    {
     "name": "stdout",
     "output_type": "stream",
     "text": [
      "32 Epoch -Loss: 0.0025788604098466693\n"
     ]
    },
    {
     "name": "stderr",
     "output_type": "stream",
     "text": [
      "Clipping input data to the valid range for imshow with RGB data ([0..1] for floats or [0..255] for integers). Got range [-1.3644148..2.6399999].\n",
      "100%|████████████████████████████████████████████████████████████████████████████████| 532/532 [09:57<00:00,  1.12s/it]\n"
     ]
    },
    {
     "name": "stdout",
     "output_type": "stream",
     "text": [
      "33 Epoch -Loss: 0.002561394149512823\n"
     ]
    },
    {
     "name": "stderr",
     "output_type": "stream",
     "text": [
      "Clipping input data to the valid range for imshow with RGB data ([0..1] for floats or [0..255] for integers). Got range [-1.9295317..2.0299783].\n",
      "100%|████████████████████████████████████████████████████████████████████████████████| 532/532 [09:56<00:00,  1.12s/it]\n"
     ]
    },
    {
     "name": "stdout",
     "output_type": "stream",
     "text": [
      "34 Epoch -Loss: 0.002557831667792542\n"
     ]
    },
    {
     "name": "stderr",
     "output_type": "stream",
     "text": [
      "Clipping input data to the valid range for imshow with RGB data ([0..1] for floats or [0..255] for integers). Got range [-2.117904..2.4308496].\n",
      "100%|████████████████████████████████████████████████████████████████████████████████| 532/532 [09:55<00:00,  1.12s/it]\n"
     ]
    },
    {
     "name": "stdout",
     "output_type": "stream",
     "text": [
      "35 Epoch -Loss: 0.0025312965004914965\n"
     ]
    },
    {
     "name": "stderr",
     "output_type": "stream",
     "text": [
      "Clipping input data to the valid range for imshow with RGB data ([0..1] for floats or [0..255] for integers). Got range [-2.0665298..2.186841].\n",
      "100%|████████████████████████████████████████████████████████████████████████████████| 532/532 [09:55<00:00,  1.12s/it]\n"
     ]
    },
    {
     "name": "stdout",
     "output_type": "stream",
     "text": [
      "36 Epoch -Loss: 0.0025304765611207742\n"
     ]
    },
    {
     "name": "stderr",
     "output_type": "stream",
     "text": [
      "Clipping input data to the valid range for imshow with RGB data ([0..1] for floats or [0..255] for integers). Got range [-1.3301653..2.448279].\n",
      "100%|████████████████████████████████████████████████████████████████████████████████| 532/532 [09:55<00:00,  1.12s/it]\n"
     ]
    },
    {
     "name": "stdout",
     "output_type": "stream",
     "text": [
      "37 Epoch -Loss: 0.0025331387281001204\n"
     ]
    },
    {
     "name": "stderr",
     "output_type": "stream",
     "text": [
      "Clipping input data to the valid range for imshow with RGB data ([0..1] for floats or [0..255] for integers). Got range [-2.117904..2.4831371].\n",
      "100%|████████████████████████████████████████████████████████████████████████████████| 532/532 [09:56<00:00,  1.12s/it]\n"
     ]
    },
    {
     "name": "stdout",
     "output_type": "stream",
     "text": [
      "38 Epoch -Loss: 0.0025046324539891116\n"
     ]
    },
    {
     "name": "stderr",
     "output_type": "stream",
     "text": [
      "Clipping input data to the valid range for imshow with RGB data ([0..1] for floats or [0..255] for integers). Got range [-2.117904..2.6399999].\n",
      "100%|████████████████████████████████████████████████████████████████████████████████| 532/532 [09:55<00:00,  1.12s/it]\n"
     ]
    },
    {
     "name": "stdout",
     "output_type": "stream",
     "text": [
      "39 Epoch -Loss: 0.0025068820612610117\n"
     ]
    },
    {
     "name": "stderr",
     "output_type": "stream",
     "text": [
      "Clipping input data to the valid range for imshow with RGB data ([0..1] for floats or [0..255] for integers). Got range [-1.7069099..2.2216992].\n",
      "100%|████████████████████████████████████████████████████████████████████████████████| 532/532 [09:55<00:00,  1.12s/it]\n"
     ]
    },
    {
     "name": "stdout",
     "output_type": "stream",
     "text": [
      "40 Epoch -Loss: 0.0024834847963096478\n"
     ]
    },
    {
     "name": "stderr",
     "output_type": "stream",
     "text": [
      "Clipping input data to the valid range for imshow with RGB data ([0..1] for floats or [0..255] for integers). Got range [-1.9481791..2.3088453].\n",
      "100%|████████████████████████████████████████████████████████████████████████████████| 532/532 [09:55<00:00,  1.12s/it]\n"
     ]
    },
    {
     "name": "stdout",
     "output_type": "stream",
     "text": [
      "41 Epoch -Loss: 0.002475839799499363\n"
     ]
    },
    {
     "name": "stderr",
     "output_type": "stream",
     "text": [
      "Clipping input data to the valid range for imshow with RGB data ([0..1] for floats or [0..255] for integers). Got range [-2.117904..2.6399999].\n",
      "100%|████████████████████████████████████████████████████████████████████████████████| 532/532 [09:56<00:00,  1.12s/it]\n"
     ]
    },
    {
     "name": "stdout",
     "output_type": "stream",
     "text": [
      "42 Epoch -Loss: 0.0024791581469108316\n"
     ]
    },
    {
     "name": "stderr",
     "output_type": "stream",
     "text": [
      "Clipping input data to the valid range for imshow with RGB data ([0..1] for floats or [0..255] for integers). Got range [-2.117904..2.6399999].\n",
      "100%|████████████████████████████████████████████████████████████████████████████████| 532/532 [09:55<00:00,  1.12s/it]\n"
     ]
    },
    {
     "name": "stdout",
     "output_type": "stream",
     "text": [
      "43 Epoch -Loss: 0.00247063272859362\n"
     ]
    },
    {
     "name": "stderr",
     "output_type": "stream",
     "text": [
      "Clipping input data to the valid range for imshow with RGB data ([0..1] for floats or [0..255] for integers). Got range [-2.117904..1.8208278].\n",
      "100%|████████████████████████████████████████████████████████████████████████████████| 532/532 [09:55<00:00,  1.12s/it]\n"
     ]
    },
    {
     "name": "stdout",
     "output_type": "stream",
     "text": [
      "44 Epoch -Loss: 0.00244984954890543\n"
     ]
    },
    {
     "name": "stderr",
     "output_type": "stream",
     "text": [
      "Clipping input data to the valid range for imshow with RGB data ([0..1] for floats or [0..255] for integers). Got range [-2.117904..2.6399999].\n",
      "100%|████████████████████████████████████████████████████████████████████████████████| 532/532 [09:56<00:00,  1.12s/it]\n"
     ]
    },
    {
     "name": "stdout",
     "output_type": "stream",
     "text": [
      "45 Epoch -Loss: 0.0024694607276259397\n"
     ]
    },
    {
     "name": "stderr",
     "output_type": "stream",
     "text": [
      "Clipping input data to the valid range for imshow with RGB data ([0..1] for floats or [0..255] for integers). Got range [-2.117904..2.6399999].\n",
      "100%|████████████████████████████████████████████████████████████████████████████████| 532/532 [09:57<00:00,  1.12s/it]\n"
     ]
    },
    {
     "name": "stdout",
     "output_type": "stream",
     "text": [
      "46 Epoch -Loss: 0.0024469598319864644\n"
     ]
    },
    {
     "name": "stderr",
     "output_type": "stream",
     "text": [
      "Clipping input data to the valid range for imshow with RGB data ([0..1] for floats or [0..255] for integers). Got range [-1.9466563..2.6399999].\n",
      "100%|████████████████████████████████████████████████████████████████████████████████| 532/532 [09:59<00:00,  1.13s/it]\n"
     ]
    },
    {
     "name": "stdout",
     "output_type": "stream",
     "text": [
      "47 Epoch -Loss: 0.002433442009553397\n"
     ]
    },
    {
     "name": "stderr",
     "output_type": "stream",
     "text": [
      "Clipping input data to the valid range for imshow with RGB data ([0..1] for floats or [0..255] for integers). Got range [-1.9295317..2.6399999].\n",
      "100%|████████████████████████████████████████████████████████████████████████████████| 532/532 [09:59<00:00,  1.13s/it]\n"
     ]
    },
    {
     "name": "stdout",
     "output_type": "stream",
     "text": [
      "48 Epoch -Loss: 0.002416658831000524\n"
     ]
    },
    {
     "name": "stderr",
     "output_type": "stream",
     "text": [
      "Clipping input data to the valid range for imshow with RGB data ([0..1] for floats or [0..255] for integers). Got range [-2.117904..2.0299783].\n",
      "100%|████████████████████████████████████████████████████████████████████████████████| 532/532 [10:01<00:00,  1.13s/it]\n"
     ]
    },
    {
     "name": "stdout",
     "output_type": "stream",
     "text": [
      "49 Epoch -Loss: 0.0024364112412007316\n"
     ]
    },
    {
     "name": "stderr",
     "output_type": "stream",
     "text": [
      "Clipping input data to the valid range for imshow with RGB data ([0..1] for floats or [0..255] for integers). Got range [-2.117904..2.6399999].\n",
      "100%|████████████████████████████████████████████████████████████████████████████████| 532/532 [09:59<00:00,  1.13s/it]\n"
     ]
    },
    {
     "name": "stdout",
     "output_type": "stream",
     "text": [
      "50 Epoch -Loss: 0.00240989177552563\n"
     ]
    },
    {
     "name": "stderr",
     "output_type": "stream",
     "text": [
      "Clipping input data to the valid range for imshow with RGB data ([0..1] for floats or [0..255] for integers). Got range [-1.9637811..2.5702832].\n",
      "100%|████████████████████████████████████████████████████████████████████████████████| 532/532 [09:55<00:00,  1.12s/it]\n"
     ]
    },
    {
     "name": "stdout",
     "output_type": "stream",
     "text": [
      "51 Epoch -Loss: 0.0024088450170934366\n"
     ]
    },
    {
     "name": "stderr",
     "output_type": "stream",
     "text": [
      "Clipping input data to the valid range for imshow with RGB data ([0..1] for floats or [0..255] for integers). Got range [-2.117904..2.2391286].\n",
      "100%|████████████████████████████████████████████████████████████████████████████████| 532/532 [09:55<00:00,  1.12s/it]\n"
     ]
    },
    {
     "name": "stdout",
     "output_type": "stream",
     "text": [
      "52 Epoch -Loss: 0.0024109938564006576\n"
     ]
    },
    {
     "name": "stderr",
     "output_type": "stream",
     "text": [
      "Clipping input data to the valid range for imshow with RGB data ([0..1] for floats or [0..255] for integers). Got range [-2.117904..2.6399999].\n",
      "100%|████████████████████████████████████████████████████████████████████████████████| 532/532 [09:55<00:00,  1.12s/it]\n"
     ]
    },
    {
     "name": "stdout",
     "output_type": "stream",
     "text": [
      "53 Epoch -Loss: 0.002384079825281887\n"
     ]
    },
    {
     "name": "stderr",
     "output_type": "stream",
     "text": [
      "Clipping input data to the valid range for imshow with RGB data ([0..1] for floats or [0..255] for integers). Got range [-2.117904..2.1345534].\n",
      "100%|████████████████████████████████████████████████████████████████████████████████| 532/532 [09:55<00:00,  1.12s/it]\n"
     ]
    },
    {
     "name": "stdout",
     "output_type": "stream",
     "text": [
      "54 Epoch -Loss: 0.002386243690918655\n"
     ]
    },
    {
     "name": "stderr",
     "output_type": "stream",
     "text": [
      "Clipping input data to the valid range for imshow with RGB data ([0..1] for floats or [0..255] for integers). Got range [-1.7582841..2.3959913].\n",
      "100%|████████████████████████████████████████████████████████████████████████████████| 532/532 [09:56<00:00,  1.12s/it]\n"
     ]
    },
    {
     "name": "stdout",
     "output_type": "stream",
     "text": [
      "55 Epoch -Loss: 0.002402126986255057\n"
     ]
    },
    {
     "name": "stderr",
     "output_type": "stream",
     "text": [
      "Clipping input data to the valid range for imshow with RGB data ([0..1] for floats or [0..255] for integers). Got range [-2.0836544..2.6399999].\n",
      "100%|████████████████████████████████████████████████████████████████████████████████| 532/532 [09:56<00:00,  1.12s/it]\n"
     ]
    },
    {
     "name": "stdout",
     "output_type": "stream",
     "text": [
      "56 Epoch -Loss: 0.0023865444453072533\n"
     ]
    },
    {
     "name": "stderr",
     "output_type": "stream",
     "text": [
      "Clipping input data to the valid range for imshow with RGB data ([0..1] for floats or [0..255] for integers). Got range [-2.0494049..1.5768192].\n",
      "100%|████████████████████████████████████████████████████████████████████████████████| 532/532 [09:56<00:00,  1.12s/it]\n"
     ]
    },
    {
     "name": "stdout",
     "output_type": "stream",
     "text": [
      "57 Epoch -Loss: 0.002367025341696799\n"
     ]
    },
    {
     "name": "stderr",
     "output_type": "stream",
     "text": [
      "Clipping input data to the valid range for imshow with RGB data ([0..1] for floats or [0..255] for integers). Got range [-1.8952821..2.5005665].\n",
      "100%|████████████████████████████████████████████████████████████████████████████████| 532/532 [09:55<00:00,  1.12s/it]\n"
     ]
    },
    {
     "name": "stdout",
     "output_type": "stream",
     "text": [
      "58 Epoch -Loss: 0.0023628856874722288\n"
     ]
    },
    {
     "name": "stderr",
     "output_type": "stream",
     "text": [
      "Clipping input data to the valid range for imshow with RGB data ([0..1] for floats or [0..255] for integers). Got range [-2.117904..2.6399999].\n",
      "100%|████████████████████████████████████████████████████████████████████████████████| 532/532 [09:56<00:00,  1.12s/it]\n"
     ]
    },
    {
     "name": "stdout",
     "output_type": "stream",
     "text": [
      "59 Epoch -Loss: 0.002367883986098468\n"
     ]
    },
    {
     "name": "stderr",
     "output_type": "stream",
     "text": [
      "Clipping input data to the valid range for imshow with RGB data ([0..1] for floats or [0..255] for integers). Got range [-1.9124069..1.8731154].\n",
      "100%|████████████████████████████████████████████████████████████████████████████████| 532/532 [09:55<00:00,  1.12s/it]\n"
     ]
    },
    {
     "name": "stdout",
     "output_type": "stream",
     "text": [
      "60 Epoch -Loss: 0.0023557554109414156\n"
     ]
    },
    {
     "name": "stderr",
     "output_type": "stream",
     "text": [
      "Clipping input data to the valid range for imshow with RGB data ([0..1] for floats or [0..255] for integers). Got range [-1.8952821..2.2914162].\n",
      "100%|████████████████████████████████████████████████████████████████████████████████| 532/532 [09:55<00:00,  1.12s/it]\n"
     ]
    },
    {
     "name": "stdout",
     "output_type": "stream",
     "text": [
      "61 Epoch -Loss: 0.0023399754617751847\n"
     ]
    },
    {
     "name": "stderr",
     "output_type": "stream",
     "text": [
      "Clipping input data to the valid range for imshow with RGB data ([0..1] for floats or [0..255] for integers). Got range [-2.117904..1.9951198].\n",
      "100%|████████████████████████████████████████████████████████████████████████████████| 532/532 [09:55<00:00,  1.12s/it]\n"
     ]
    },
    {
     "name": "stdout",
     "output_type": "stream",
     "text": [
      "62 Epoch -Loss: 0.0023391352258745187\n"
     ]
    },
    {
     "name": "stderr",
     "output_type": "stream",
     "text": [
      "Clipping input data to the valid range for imshow with RGB data ([0..1] for floats or [0..255] for integers). Got range [-2.0836544..2.6399999].\n",
      "100%|████████████████████████████████████████████████████████████████████████████████| 532/532 [09:56<00:00,  1.12s/it]\n"
     ]
    },
    {
     "name": "stdout",
     "output_type": "stream",
     "text": [
      "63 Epoch -Loss: 0.0023353875212500895\n"
     ]
    },
    {
     "name": "stderr",
     "output_type": "stream",
     "text": [
      "Clipping input data to the valid range for imshow with RGB data ([0..1] for floats or [0..255] for integers). Got range [-2.0007002..2.6399999].\n",
      "100%|████████████████████████████████████████████████████████████████████████████████| 532/532 [09:56<00:00,  1.12s/it]\n"
     ]
    },
    {
     "name": "stdout",
     "output_type": "stream",
     "text": [
      "64 Epoch -Loss: 0.002332099383833461\n"
     ]
    },
    {
     "name": "stderr",
     "output_type": "stream",
     "text": [
      "Clipping input data to the valid range for imshow with RGB data ([0..1] for floats or [0..255] for integers). Got range [-2.117904..1.8731154].\n",
      "100%|████████████████████████████████████████████████████████████████████████████████| 532/532 [09:57<00:00,  1.12s/it]\n"
     ]
    },
    {
     "name": "stdout",
     "output_type": "stream",
     "text": [
      "65 Epoch -Loss: 0.002314493084182837\n"
     ]
    },
    {
     "name": "stderr",
     "output_type": "stream",
     "text": [
      "Clipping input data to the valid range for imshow with RGB data ([0..1] for floats or [0..255] for integers). Got range [-2.117904..2.6399999].\n",
      "100%|████████████████████████████████████████████████████████████████████████████████| 532/532 [09:56<00:00,  1.12s/it]\n"
     ]
    },
    {
     "name": "stdout",
     "output_type": "stream",
     "text": [
      "66 Epoch -Loss: 0.002336544704866855\n"
     ]
    },
    {
     "name": "stderr",
     "output_type": "stream",
     "text": [
      "Clipping input data to the valid range for imshow with RGB data ([0..1] for floats or [0..255] for integers). Got range [-2.117904..2.6399999].\n",
      "100%|████████████████████████████████████████████████████████████████████████████████| 532/532 [09:55<00:00,  1.12s/it]\n"
     ]
    },
    {
     "name": "stdout",
     "output_type": "stream",
     "text": [
      "67 Epoch -Loss: 0.0023195533632454847\n"
     ]
    },
    {
     "name": "stderr",
     "output_type": "stream",
     "text": [
      "Clipping input data to the valid range for imshow with RGB data ([0..1] for floats or [0..255] for integers). Got range [-2.117904..2.6399999].\n",
      "100%|████████████████████████████████████████████████████████████████████████████████| 532/532 [09:56<00:00,  1.12s/it]\n"
     ]
    },
    {
     "name": "stdout",
     "output_type": "stream",
     "text": [
      "68 Epoch -Loss: 0.002314181084117915\n"
     ]
    },
    {
     "name": "stderr",
     "output_type": "stream",
     "text": [
      "Clipping input data to the valid range for imshow with RGB data ([0..1] for floats or [0..255] for integers). Got range [-1.8610326..2.2489083].\n",
      "100%|████████████████████████████████████████████████████████████████████████████████| 532/532 [09:55<00:00,  1.12s/it]\n"
     ]
    },
    {
     "name": "stdout",
     "output_type": "stream",
     "text": [
      "69 Epoch -Loss: 0.002299809537799959\n"
     ]
    },
    {
     "name": "stderr",
     "output_type": "stream",
     "text": [
      "Clipping input data to the valid range for imshow with RGB data ([0..1] for floats or [0..255] for integers). Got range [-2.117904..2.4134204].\n",
      "100%|████████████████████████████████████████████████████████████████████████████████| 532/532 [09:55<00:00,  1.12s/it]\n"
     ]
    },
    {
     "name": "stdout",
     "output_type": "stream",
     "text": [
      "70 Epoch -Loss: 0.0023043641721640705\n"
     ]
    },
    {
     "name": "stderr",
     "output_type": "stream",
     "text": [
      "Clipping input data to the valid range for imshow with RGB data ([0..1] for floats or [0..255] for integers). Got range [-2.117904..2.6399999].\n",
      "100%|████████████████████████████████████████████████████████████████████████████████| 532/532 [09:55<00:00,  1.12s/it]\n"
     ]
    },
    {
     "name": "stdout",
     "output_type": "stream",
     "text": [
      "71 Epoch -Loss: 0.002296708698850125\n"
     ]
    },
    {
     "name": "stderr",
     "output_type": "stream",
     "text": [
      "Clipping input data to the valid range for imshow with RGB data ([0..1] for floats or [0..255] for integers). Got range [-2.117904..2.4831371].\n",
      "100%|████████████████████████████████████████████████████████████████████████████████| 532/532 [09:55<00:00,  1.12s/it]\n"
     ]
    },
    {
     "name": "stdout",
     "output_type": "stream",
     "text": [
      "72 Epoch -Loss: 0.002282540212364349\n"
     ]
    },
    {
     "name": "stderr",
     "output_type": "stream",
     "text": [
      "Clipping input data to the valid range for imshow with RGB data ([0..1] for floats or [0..255] for integers). Got range [-1.4754901..2.6399999].\n",
      "100%|████████████████████████████████████████████████████████████████████████████████| 532/532 [09:55<00:00,  1.12s/it]\n"
     ]
    },
    {
     "name": "stdout",
     "output_type": "stream",
     "text": [
      "73 Epoch -Loss: 0.002293840845034955\n"
     ]
    },
    {
     "name": "stderr",
     "output_type": "stream",
     "text": [
      "Clipping input data to the valid range for imshow with RGB data ([0..1] for floats or [0..255] for integers). Got range [-1.6726604..1.9602615].\n",
      "100%|████████████████████████████████████████████████████████████████████████████████| 532/532 [09:56<00:00,  1.12s/it]\n"
     ]
    },
    {
     "name": "stdout",
     "output_type": "stream",
     "text": [
      "74 Epoch -Loss: 0.0022817805973564353\n"
     ]
    },
    {
     "name": "stderr",
     "output_type": "stream",
     "text": [
      "Clipping input data to the valid range for imshow with RGB data ([0..1] for floats or [0..255] for integers). Got range [-2.0357141..2.6399999].\n",
      "100%|████████████████████████████████████████████████████████████████████████████████| 532/532 [09:55<00:00,  1.12s/it]\n"
     ]
    },
    {
     "name": "stdout",
     "output_type": "stream",
     "text": [
      "75 Epoch -Loss: 0.0022707566412347824\n"
     ]
    },
    {
     "name": "stderr",
     "output_type": "stream",
     "text": [
      "Clipping input data to the valid range for imshow with RGB data ([0..1] for floats or [0..255] for integers). Got range [-2.117904..2.3262744].\n",
      "100%|████████████████████████████████████████████████████████████████████████████████| 532/532 [09:55<00:00,  1.12s/it]\n"
     ]
    },
    {
     "name": "stdout",
     "output_type": "stream",
     "text": [
      "76 Epoch -Loss: 0.0022647091932857365\n"
     ]
    },
    {
     "name": "stderr",
     "output_type": "stream",
     "text": [
      "Clipping input data to the valid range for imshow with RGB data ([0..1] for floats or [0..255] for integers). Got range [-1.9980307..1.9602615].\n",
      "100%|████████████████████████████████████████████████████████████████████████████████| 532/532 [09:56<00:00,  1.12s/it]\n"
     ]
    },
    {
     "name": "stdout",
     "output_type": "stream",
     "text": [
      "77 Epoch -Loss: 0.0022748357089432446\n"
     ]
    },
    {
     "name": "stderr",
     "output_type": "stream",
     "text": [
      "Clipping input data to the valid range for imshow with RGB data ([0..1] for floats or [0..255] for integers). Got range [-2.0665298..2.6399999].\n",
      "100%|████████████████████████████████████████████████████████████████████████████████| 532/532 [09:55<00:00,  1.12s/it]\n"
     ]
    },
    {
     "name": "stdout",
     "output_type": "stream",
     "text": [
      "78 Epoch -Loss: 0.0022679484935995554\n"
     ]
    },
    {
     "name": "stderr",
     "output_type": "stream",
     "text": [
      "Clipping input data to the valid range for imshow with RGB data ([0..1] for floats or [0..255] for integers). Got range [-2.117904..2.6399999].\n",
      "100%|████████████████████████████████████████████████████████████████████████████████| 532/532 [09:58<00:00,  1.13s/it]\n"
     ]
    },
    {
     "name": "stdout",
     "output_type": "stream",
     "text": [
      "79 Epoch -Loss: 0.0022611387134827254\n"
     ]
    },
    {
     "name": "stderr",
     "output_type": "stream",
     "text": [
      "Clipping input data to the valid range for imshow with RGB data ([0..1] for floats or [0..255] for integers). Got range [-2.117904..1.7511111].\n",
      "100%|████████████████████████████████████████████████████████████████████████████████| 532/532 [09:55<00:00,  1.12s/it]\n"
     ]
    },
    {
     "name": "stdout",
     "output_type": "stream",
     "text": [
      "80 Epoch -Loss: 0.0022527300220952697\n"
     ]
    },
    {
     "name": "stderr",
     "output_type": "stream",
     "text": [
      "Clipping input data to the valid range for imshow with RGB data ([0..1] for floats or [0..255] for integers). Got range [-2.0151553..1.9428322].\n",
      "100%|████████████████████████████████████████████████████████████████████████████████| 532/532 [09:55<00:00,  1.12s/it]\n"
     ]
    },
    {
     "name": "stdout",
     "output_type": "stream",
     "text": [
      "81 Epoch -Loss: 0.0022582086065742082\n"
     ]
    },
    {
     "name": "stderr",
     "output_type": "stream",
     "text": [
      "Clipping input data to the valid range for imshow with RGB data ([0..1] for floats or [0..255] for integers). Got range [-2.117904..2.6399999].\n",
      "100%|████████████████████████████████████████████████████████████████████████████████| 532/532 [09:55<00:00,  1.12s/it]\n"
     ]
    },
    {
     "name": "stdout",
     "output_type": "stream",
     "text": [
      "82 Epoch -Loss: 0.0022566119061005687\n"
     ]
    },
    {
     "name": "stderr",
     "output_type": "stream",
     "text": [
      "Clipping input data to the valid range for imshow with RGB data ([0..1] for floats or [0..255] for integers). Got range [-2.117904..2.465708].\n",
      "100%|████████████████████████████████████████████████████████████████████████████████| 532/532 [09:55<00:00,  1.12s/it]\n"
     ]
    },
    {
     "name": "stdout",
     "output_type": "stream",
     "text": [
      "83 Epoch -Loss: 0.0022523422571007665\n"
     ]
    },
    {
     "name": "stderr",
     "output_type": "stream",
     "text": [
      "Clipping input data to the valid range for imshow with RGB data ([0..1] for floats or [0..255] for integers). Got range [-2.117904..2.6399999].\n",
      "100%|████████████████████████████████████████████████████████████████████████████████| 532/532 [09:56<00:00,  1.12s/it]\n"
     ]
    },
    {
     "name": "stdout",
     "output_type": "stream",
     "text": [
      "84 Epoch -Loss: 0.002247828591520429\n"
     ]
    },
    {
     "name": "stderr",
     "output_type": "stream",
     "text": [
      "Clipping input data to the valid range for imshow with RGB data ([0..1] for floats or [0..255] for integers). Got range [-2.117904..2.1345534].\n",
      "100%|████████████████████████████████████████████████████████████████████████████████| 532/532 [09:56<00:00,  1.12s/it]\n"
     ]
    },
    {
     "name": "stdout",
     "output_type": "stream",
     "text": [
      "85 Epoch -Loss: 0.0022363957734095785\n"
     ]
    },
    {
     "name": "stderr",
     "output_type": "stream",
     "text": [
      "Clipping input data to the valid range for imshow with RGB data ([0..1] for floats or [0..255] for integers). Got range [-1.9637811..1.8905447].\n",
      "100%|████████████████████████████████████████████████████████████████████████████████| 532/532 [09:56<00:00,  1.12s/it]\n"
     ]
    },
    {
     "name": "stdout",
     "output_type": "stream",
     "text": [
      "86 Epoch -Loss: 0.002235534228690851\n"
     ]
    },
    {
     "name": "stderr",
     "output_type": "stream",
     "text": [
      "Clipping input data to the valid range for imshow with RGB data ([0..1] for floats or [0..255] for integers). Got range [-1.8952821..1.5768192].\n",
      "100%|████████████████████████████████████████████████████████████████████████████████| 532/532 [09:56<00:00,  1.12s/it]\n"
     ]
    },
    {
     "name": "stdout",
     "output_type": "stream",
     "text": [
      "87 Epoch -Loss: 0.0022184991114072615\n"
     ]
    },
    {
     "name": "stderr",
     "output_type": "stream",
     "text": [
      "Clipping input data to the valid range for imshow with RGB data ([0..1] for floats or [0..255] for integers). Got range [-2.117904..2.6399999].\n",
      "100%|████████████████████████████████████████████████████████████████████████████████| 532/532 [09:56<00:00,  1.12s/it]\n"
     ]
    },
    {
     "name": "stdout",
     "output_type": "stream",
     "text": [
      "88 Epoch -Loss: 0.002216377089638613\n"
     ]
    },
    {
     "name": "stderr",
     "output_type": "stream",
     "text": [
      "Clipping input data to the valid range for imshow with RGB data ([0..1] for floats or [0..255] for integers). Got range [-1.8096584..2.2914162].\n",
      "100%|████████████████████████████████████████████████████████████████████████████████| 532/532 [09:55<00:00,  1.12s/it]\n"
     ]
    },
    {
     "name": "stdout",
     "output_type": "stream",
     "text": [
      "89 Epoch -Loss: 0.0022184399028371713\n"
     ]
    },
    {
     "name": "stderr",
     "output_type": "stream",
     "text": [
      "Clipping input data to the valid range for imshow with RGB data ([0..1] for floats or [0..255] for integers). Got range [-2.117904..2.6399999].\n",
      "100%|████████████████████████████████████████████████████████████████████████████████| 532/532 [09:56<00:00,  1.12s/it]\n"
     ]
    },
    {
     "name": "stdout",
     "output_type": "stream",
     "text": [
      "90 Epoch -Loss: 0.002216953452925121\n"
     ]
    },
    {
     "name": "stderr",
     "output_type": "stream",
     "text": [
      "Clipping input data to the valid range for imshow with RGB data ([0..1] for floats or [0..255] for integers). Got range [-2.117904..2.1975338].\n",
      "100%|████████████████████████████████████████████████████████████████████████████████| 532/532 [09:55<00:00,  1.12s/it]\n"
     ]
    },
    {
     "name": "stdout",
     "output_type": "stream",
     "text": [
      "91 Epoch -Loss: 0.002202593267385855\n"
     ]
    },
    {
     "name": "stderr",
     "output_type": "stream",
     "text": [
      "Clipping input data to the valid range for imshow with RGB data ([0..1] for floats or [0..255] for integers). Got range [-2.0836544..2.4831371].\n",
      "100%|████████████████████████████████████████████████████████████████████████████████| 532/532 [09:55<00:00,  1.12s/it]\n"
     ]
    },
    {
     "name": "stdout",
     "output_type": "stream",
     "text": [
      "92 Epoch -Loss: 0.002219471513491502\n"
     ]
    },
    {
     "name": "stderr",
     "output_type": "stream",
     "text": [
      "Clipping input data to the valid range for imshow with RGB data ([0..1] for floats or [0..255] for integers). Got range [-1.9809059..1.7162527].\n",
      "100%|████████████████████████████████████████████████████████████████████████████████| 532/532 [09:56<00:00,  1.12s/it]\n"
     ]
    },
    {
     "name": "stdout",
     "output_type": "stream",
     "text": [
      "93 Epoch -Loss: 0.002193833652952042\n"
     ]
    },
    {
     "name": "stderr",
     "output_type": "stream",
     "text": [
      "Clipping input data to the valid range for imshow with RGB data ([0..1] for floats or [0..255] for integers). Got range [-2.117904..2.6399999].\n",
      "100%|████████████████████████████████████████████████████████████████████████████████| 532/532 [09:55<00:00,  1.12s/it]\n"
     ]
    },
    {
     "name": "stdout",
     "output_type": "stream",
     "text": [
      "94 Epoch -Loss: 0.0021862517735969865\n"
     ]
    },
    {
     "name": "stderr",
     "output_type": "stream",
     "text": [
      "Clipping input data to the valid range for imshow with RGB data ([0..1] for floats or [0..255] for integers). Got range [-2.117904..2.6399999].\n",
      "100%|████████████████████████████████████████████████████████████████████████████████| 532/532 [09:56<00:00,  1.12s/it]\n"
     ]
    },
    {
     "name": "stdout",
     "output_type": "stream",
     "text": [
      "95 Epoch -Loss: 0.002188580308050001\n"
     ]
    },
    {
     "name": "stderr",
     "output_type": "stream",
     "text": [
      "Clipping input data to the valid range for imshow with RGB data ([0..1] for floats or [0..255] for integers). Got range [-2.117904..2.6399999].\n",
      "100%|████████████████████████████████████████████████████████████████████████████████| 532/532 [09:57<00:00,  1.12s/it]\n"
     ]
    },
    {
     "name": "stdout",
     "output_type": "stream",
     "text": [
      "96 Epoch -Loss: 0.0021818123486057567\n"
     ]
    },
    {
     "name": "stderr",
     "output_type": "stream",
     "text": [
      "Clipping input data to the valid range for imshow with RGB data ([0..1] for floats or [0..255] for integers). Got range [-1.9124069..1.3676689].\n",
      "100%|████████████████████████████████████████████████████████████████████████████████| 532/532 [09:55<00:00,  1.12s/it]\n"
     ]
    },
    {
     "name": "stdout",
     "output_type": "stream",
     "text": [
      "97 Epoch -Loss: 0.002178520620476693\n"
     ]
    },
    {
     "name": "stderr",
     "output_type": "stream",
     "text": [
      "Clipping input data to the valid range for imshow with RGB data ([0..1] for floats or [0..255] for integers). Got range [-2.117904..2.552854].\n",
      "100%|████████████████████████████████████████████████████████████████████████████████| 532/532 [09:56<00:00,  1.12s/it]\n"
     ]
    },
    {
     "name": "stdout",
     "output_type": "stream",
     "text": [
      "98 Epoch -Loss: 0.0021872937738811387\n"
     ]
    },
    {
     "name": "stderr",
     "output_type": "stream",
     "text": [
      "Clipping input data to the valid range for imshow with RGB data ([0..1] for floats or [0..255] for integers). Got range [-1.9295317..2.0299783].\n",
      "100%|████████████████████████████████████████████████████████████████████████████████| 532/532 [09:56<00:00,  1.12s/it]\n"
     ]
    },
    {
     "name": "stdout",
     "output_type": "stream",
     "text": [
      "99 Epoch -Loss: 0.002173075870404202\n"
     ]
    },
    {
     "name": "stderr",
     "output_type": "stream",
     "text": [
      "Clipping input data to the valid range for imshow with RGB data ([0..1] for floats or [0..255] for integers). Got range [-2.117904..2.6399999].\n"
     ]
    }
   ],
   "source": [
    "for epoch in range(N_epoch):\n",
    "    epoch_loss = 0.\n",
    "\n",
    "    for sample in tqdm(iter(loader)):\n",
    "        sample = sample.cuda()\n",
    "        #sample_s = F.interpolate(sample, (512, 512), mode=\"area\")\n",
    "\n",
    "        ## Teacher model\n",
    "        with torch.no_grad():\n",
    "            feat_t = model_t.image_encoder(sample)\n",
    "\n",
    "        ## Init_gradient\n",
    "        optimizer.zero_grad()\n",
    "        \n",
    "        ## Student model\n",
    "        feat_s = model_s(sample)\n",
    "\n",
    "        loss = loss_function(feat_s, feat_t)\n",
    "\n",
    "        ##update\n",
    "        loss.backward()\n",
    "        optimizer.step()\n",
    "        epoch_loss += float(loss)\n",
    "\n",
    "    epoch_loss /= len(loader)\n",
    "    print(f\"{epoch} Epoch -Loss: {epoch_loss}\")\n",
    "    \n",
    "    torch.save({\n",
    "        \"model\": model_s.state_dict(),\n",
    "        \"optimizer\": optimizer.state_dict(),\n",
    "        \"epoch\": epoch}, output_checkpoint_path)\n",
    "        \n",
    "    \n",
    "    plt.figure(figsize=(10, 10))\n",
    "    plt.subplot(131)\n",
    "    plt.title(\"Image\")\n",
    "    plt.imshow(sample[0].detach().cpu().permute(1, 2, 0))\n",
    "    plt.subplot(132)\n",
    "    plt.title(\"Teacher\")\n",
    "    plt.imshow(feat_t[0, 0].detach().cpu())\n",
    "    plt.subplot(133)\n",
    "    plt.title(\"Student\")\n",
    "    plt.imshow(feat_s[0, 0].detach().cpu())\n",
    "    plt.savefig(os.path.join(output_checkpoint_dir, \n",
    "                             f\"epoch_{str(epoch).zfill(3)}.png\"))\n",
    "    plt.close()"
   ]
  },
  {
   "cell_type": "markdown",
   "id": "96b4f2a5-26e6-48e8-b8e8-17bebac40316",
   "metadata": {},
   "source": [
    "## Visualization"
   ]
  },
  {
   "cell_type": "code",
   "execution_count": 14,
   "id": "742f2b60-49f8-40cc-be41-d7f540930267",
   "metadata": {},
   "outputs": [],
   "source": [
    "plt.figure(figsize=(10, 10))\n",
    "plt.subplot(121)\n",
    "plt.imshow(feat_t[0, 0].detach().cpu())\n",
    "plt.subplot(122)\n",
    "plt.imshow(feat_s[0, 0].detach().cpu())\n",
    "plt.savefig(os.path.join(output_checkpoint_dir, \n",
    "                         f\"epoch_{epoch}.png\"))\n",
    "plt.close()"
   ]
  },
  {
   "cell_type": "code",
   "execution_count": null,
   "id": "a4ead458-649f-413c-829c-fce67c4ddd98",
   "metadata": {},
   "outputs": [],
   "source": []
  }
 ],
 "metadata": {
  "kernelspec": {
   "display_name": "sam",
   "language": "python",
   "name": "sam"
  },
  "language_info": {
   "codemirror_mode": {
    "name": "ipython",
    "version": 3
   },
   "file_extension": ".py",
   "mimetype": "text/x-python",
   "name": "python",
   "nbconvert_exporter": "python",
   "pygments_lexer": "ipython3",
   "version": "3.9.20"
  }
 },
 "nbformat": 4,
 "nbformat_minor": 5
}
