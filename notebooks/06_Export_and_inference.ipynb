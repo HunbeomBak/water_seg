{
 "cells": [
  {
   "cell_type": "code",
   "execution_count": 1,
   "id": "83f3e174-e7c3-4238-9bae-9dc5fa74d1b6",
   "metadata": {},
   "outputs": [],
   "source": [
    "import os\n",
    "import sys\n",
    "module_path = os.path.abspath(os.path.join('..'))\n",
    "if module_path not in sys.path:\n",
    "    sys.path.append(module_path)"
   ]
  },
  {
   "cell_type": "code",
   "execution_count": 2,
   "id": "80c03cf8-c31d-451d-9768-6b6889cd1e34",
   "metadata": {},
   "outputs": [
    {
     "name": "stderr",
     "output_type": "stream",
     "text": [
      "C:\\Users\\danusys16\\anaconda3\\envs\\sam\\lib\\site-packages\\tqdm\\auto.py:21: TqdmWarning: IProgress not found. Please update jupyter and ipywidgets. See https://ipywidgets.readthedocs.io/en/stable/user_install.html\n",
      "  from .autonotebook import tqdm as notebook_tqdm\n",
      "C:\\Users\\danusys16\\anaconda3\\envs\\sam\\lib\\site-packages\\timm\\models\\layers\\__init__.py:48: FutureWarning: Importing from timm.models.layers is deprecated, please import via timm.layers\n",
      "  warnings.warn(f\"Importing from {__name__} is deprecated, please import via timm.layers\", FutureWarning)\n",
      "C:\\Users\\danusys16\\anaconda3\\envs\\sam\\lib\\site-packages\\timm\\models\\registry.py:4: FutureWarning: Importing from timm.models.registry is deprecated, please import via timm.models\n",
      "  warnings.warn(f\"Importing from {__name__} is deprecated, please import via timm.models\", FutureWarning)\n",
      "D:\\015_segmentation\\Custom_SAM\\Module\\sam\\modeling\\tiny_vit_sam.py:656: UserWarning: Overwriting tiny_vit_5m_224 in registry with Module.sam.modeling.tiny_vit_sam.tiny_vit_5m_224. This is because the name being registered conflicts with an existing name. Please check if this is not expected.\n",
      "  return register_model(fn_wrapper)\n",
      "D:\\015_segmentation\\Custom_SAM\\Module\\sam\\modeling\\tiny_vit_sam.py:656: UserWarning: Overwriting tiny_vit_11m_224 in registry with Module.sam.modeling.tiny_vit_sam.tiny_vit_11m_224. This is because the name being registered conflicts with an existing name. Please check if this is not expected.\n",
      "  return register_model(fn_wrapper)\n",
      "D:\\015_segmentation\\Custom_SAM\\Module\\sam\\modeling\\tiny_vit_sam.py:656: UserWarning: Overwriting tiny_vit_21m_224 in registry with Module.sam.modeling.tiny_vit_sam.tiny_vit_21m_224. This is because the name being registered conflicts with an existing name. Please check if this is not expected.\n",
      "  return register_model(fn_wrapper)\n",
      "D:\\015_segmentation\\Custom_SAM\\Module\\sam\\modeling\\tiny_vit_sam.py:656: UserWarning: Overwriting tiny_vit_21m_384 in registry with Module.sam.modeling.tiny_vit_sam.tiny_vit_21m_384. This is because the name being registered conflicts with an existing name. Please check if this is not expected.\n",
      "  return register_model(fn_wrapper)\n",
      "D:\\015_segmentation\\Custom_SAM\\Module\\sam\\modeling\\tiny_vit_sam.py:656: UserWarning: Overwriting tiny_vit_21m_512 in registry with Module.sam.modeling.tiny_vit_sam.tiny_vit_21m_512. This is because the name being registered conflicts with an existing name. Please check if this is not expected.\n",
      "  return register_model(fn_wrapper)\n"
     ]
    },
    {
     "ename": "ModuleNotFoundError",
     "evalue": "No module named 'mobile_sam'",
     "output_type": "error",
     "traceback": [
      "\u001b[1;31m---------------------------------------------------------------------------\u001b[0m",
      "\u001b[1;31mModuleNotFoundError\u001b[0m                       Traceback (most recent call last)",
      "Cell \u001b[1;32mIn[2], line 8\u001b[0m\n\u001b[0;32m      5\u001b[0m \u001b[38;5;28;01mfrom\u001b[39;00m \u001b[38;5;21;01mModule\u001b[39;00m\u001b[38;5;21;01m.\u001b[39;00m\u001b[38;5;21;01msam\u001b[39;00m\u001b[38;5;21;01m.\u001b[39;00m\u001b[38;5;21;01mutils\u001b[39;00m\u001b[38;5;21;01m.\u001b[39;00m\u001b[38;5;21;01monnx\u001b[39;00m \u001b[38;5;28;01mimport\u001b[39;00m SamOnnxModel\n\u001b[0;32m      7\u001b[0m \u001b[38;5;28;01mfrom\u001b[39;00m \u001b[38;5;21;01mModule\u001b[39;00m\u001b[38;5;21;01m.\u001b[39;00m\u001b[38;5;21;01mmodels\u001b[39;00m\u001b[38;5;21;01m.\u001b[39;00m\u001b[38;5;21;01mtimm_image_encoder\u001b[39;00m \u001b[38;5;28;01mimport\u001b[39;00m TimmImageEncoder\n\u001b[1;32m----> 8\u001b[0m \u001b[38;5;28;01mfrom\u001b[39;00m \u001b[38;5;21;01mmobile_sam\u001b[39;00m\u001b[38;5;21;01m.\u001b[39;00m\u001b[38;5;21;01mmodeling\u001b[39;00m\u001b[38;5;21;01m.\u001b[39;00m\u001b[38;5;21;01msam\u001b[39;00m \u001b[38;5;28;01mimport\u001b[39;00m Sam\n",
      "\u001b[1;31mModuleNotFoundError\u001b[0m: No module named 'mobile_sam'"
     ]
    }
   ],
   "source": [
    "import os\n",
    "import torch\n",
    "import warnings\n",
    "from Module.sam import sam_model_registry, SamPredictor\n",
    "from Module.sam.utils.onnx import SamOnnxModel\n",
    "\n",
    "from Module.models.timm_image_encoder import TimmImageEncoder\n",
    "from mobile_sam.modeling.sam import Sam"
   ]
  },
  {
   "cell_type": "markdown",
   "id": "6e9a3b47-1c2a-48e4-8af4-fad6eb145d7f",
   "metadata": {},
   "source": [
    "## Model Export"
   ]
  },
  {
   "cell_type": "markdown",
   "id": "47ffb673-7936-4d3e-a3a5-4025ce0ba8a4",
   "metadata": {},
   "source": [
    "### Common Settomg"
   ]
  },
  {
   "cell_type": "code",
   "execution_count": 3,
   "id": "0c7ee0ba-1e2f-4054-b2eb-b6498b328d0f",
   "metadata": {},
   "outputs": [],
   "source": [
    "device = \"cuda\" if torch.cuda.is_available() else \"cpu\"\n",
    "opset=20"
   ]
  },
  {
   "cell_type": "markdown",
   "id": "0002dfd5-28e8-422b-8aee-641dbc8f2859",
   "metadata": {},
   "source": [
    "### Encoder"
   ]
  },
  {
   "cell_type": "code",
   "execution_count": 4,
   "id": "36b3d0b6-3458-4e87-82b1-420d6ee0ab68",
   "metadata": {},
   "outputs": [],
   "source": [
    "enc_type = 'resnet18'\n",
    "enc_checkpoint = \"../runs/241120_vit_t_to_resnet18_DANU_WS_v2_01/tiny_vit_best.pth\""
   ]
  },
  {
   "cell_type": "code",
   "execution_count": 5,
   "id": "ae54113c-e254-40b7-af37-f68d4c27ee7a",
   "metadata": {},
   "outputs": [
    {
     "name": "stderr",
     "output_type": "stream",
     "text": [
      "C:\\Users\\danusys16\\AppData\\Local\\Temp\\ipykernel_21208\\1401888577.py:3: FutureWarning: You are using `torch.load` with `weights_only=False` (the current default value), which uses the default pickle module implicitly. It is possible to construct malicious pickle data which will execute arbitrary code during unpickling (See https://github.com/pytorch/pytorch/blob/main/SECURITY.md#untrusted-models for more details). In a future release, the default value for `weights_only` will be flipped to `True`. This limits the functions that could be executed during unpickling. Arbitrary objects will no longer be allowed to be loaded via this mode unless they are explicitly allowlisted by the user via `torch.serialization.add_safe_globals`. We recommend you start setting `weights_only=True` for any use case where you don't have full control of the loaded file. Please open an issue on GitHub for any issues related to this experimental feature.\n",
      "  sam_enc.load_state_dict(torch.load(enc_checkpoint)[\"model\"])\n"
     ]
    }
   ],
   "source": [
    "## Model load\n",
    "sam_enc = TimmImageEncoder('resnet18', pretrained=True)\n",
    "sam_enc.load_state_dict(torch.load(enc_checkpoint)[\"model\"])\n",
    "\n",
    "sam_enc.to(device)\n",
    "sam_enc.eval();"
   ]
  },
  {
   "cell_type": "code",
   "execution_count": 6,
   "id": "19c773bf-674a-4da7-934e-450f3411bd67",
   "metadata": {},
   "outputs": [],
   "source": [
    "input_size=1024\n",
    "dummy_input = torch.randn(1, 3, input_size, input_size).to(device)"
   ]
  },
  {
   "cell_type": "code",
   "execution_count": 8,
   "id": "4c37bfac-5235-4bf5-90f6-556eedc42fd2",
   "metadata": {},
   "outputs": [],
   "source": [
    "output_enc_path = \"../Weights/onnx/water_seg_resnet18_encoder.onnx\" ##enc_checkpoint.replace(\".pth\", \"_encoder.onnx\")\n",
    "\n",
    "torch.onnx.export(\n",
    "            sam_enc,\n",
    "            (dummy_input,),\n",
    "            output_enc_path,\n",
    "            input_names=[\"image\"],\n",
    "            output_names=[\"image_embeddings\"],\n",
    "            opset_version=opset\n",
    "        )"
   ]
  },
  {
   "cell_type": "markdown",
   "id": "a9b554d6-4787-42ed-954b-1cef6505d8d9",
   "metadata": {},
   "source": [
    "### Decoder"
   ]
  },
  {
   "cell_type": "code",
   "execution_count": 9,
   "id": "5d4bf182-0d41-4a91-8086-f01b758b2268",
   "metadata": {},
   "outputs": [
    {
     "name": "stderr",
     "output_type": "stream",
     "text": [
      "D:\\015_segmentation\\Custom_SAM\\Module\\sam\\build_sam.py:154: FutureWarning: You are using `torch.load` with `weights_only=False` (the current default value), which uses the default pickle module implicitly. It is possible to construct malicious pickle data which will execute arbitrary code during unpickling (See https://github.com/pytorch/pytorch/blob/main/SECURITY.md#untrusted-models for more details). In a future release, the default value for `weights_only` will be flipped to `True`. This limits the functions that could be executed during unpickling. Arbitrary objects will no longer be allowed to be loaded via this mode unless they are explicitly allowlisted by the user via `torch.serialization.add_safe_globals`. We recommend you start setting `weights_only=True` for any use case where you don't have full control of the loaded file. Please open an issue on GitHub for any issues related to this experimental feature.\n",
      "  state_dict = torch.load(f)\n"
     ]
    }
   ],
   "source": [
    "dec_model_type = 'vit_b'\n",
    "dec_checkpoint = '../runs/241115_SAM_ViT_b_dataset_V2_ft_v1/best.pth'\n",
    "\n",
    "sam = sam_model_registry[dec_model_type](checkpoint=dec_checkpoint)"
   ]
  },
  {
   "cell_type": "code",
   "execution_count": 10,
   "id": "074d736e-25da-4e15-980e-3f821a60c114",
   "metadata": {},
   "outputs": [],
   "source": [
    "onnx_model = SamOnnxModel(\n",
    "    model=sam, \n",
    "    return_single_mask=True,\n",
    "    use_stability_score=False,\n",
    "    return_extra_metrics=False\n",
    ")"
   ]
  },
  {
   "cell_type": "code",
   "execution_count": 17,
   "id": "fc2a02b9-a46e-4a02-a5fb-caf1bea0a50a",
   "metadata": {},
   "outputs": [],
   "source": [
    "output_dec_path = \"../Weights/onnx/water_seg_decoder.onnx\" ##dec_checkpoint.replace(\"best.pth\", \"water_seg_vit_b_decoder.onnx\")"
   ]
  },
  {
   "cell_type": "code",
   "execution_count": 18,
   "id": "3e2ddfb6-f044-4c12-a1a1-218b7e6223c9",
   "metadata": {},
   "outputs": [],
   "source": [
    "dynamic_axes = {\n",
    "        \"point_coords\": {1: \"num_points\"},\n",
    "        \"point_labels\": {1: \"num_points\"},\n",
    "    }\n",
    "\n",
    "embed_dim = sam.prompt_encoder.embed_dim\n",
    "embed_size = sam.prompt_encoder.image_embedding_size\n",
    "mask_input_size = [4 * x for x in embed_size]\n",
    "dummy_inputs = {\n",
    "        \"image_embeddings\": torch.randn(1, embed_dim, *embed_size, dtype=torch.float),\n",
    "        \"point_coords\": torch.randint(low=0, high=1024, size=(1, 5, 2), dtype=torch.float),\n",
    "        \"point_labels\": torch.randint(low=0, high=4, size=(1, 5), dtype=torch.float),\n",
    "        \"mask_input\": torch.randn(1, 1, *mask_input_size, dtype=torch.float),\n",
    "        \"has_mask_input\": torch.tensor([1], dtype=torch.float),\n",
    "        \"orig_im_size\": torch.tensor([1500, 2250], dtype=torch.int32),\n",
    "    }"
   ]
  },
  {
   "cell_type": "code",
   "execution_count": 19,
   "id": "423553a5-21aa-4b9a-915f-a0e44ccfe6e5",
   "metadata": {},
   "outputs": [],
   "source": [
    "_ = onnx_model(**dummy_inputs)"
   ]
  },
  {
   "cell_type": "code",
   "execution_count": 20,
   "id": "eefa0aff-cf51-4c84-9fd2-c52210a13c62",
   "metadata": {},
   "outputs": [],
   "source": [
    "output_names = [\"masks\", \"iou_predictions\", \"low_res_masks\"]"
   ]
  },
  {
   "cell_type": "code",
   "execution_count": 21,
   "id": "0e06a866-a172-41ce-8b8e-227a6be43423",
   "metadata": {},
   "outputs": [
    {
     "name": "stdout",
     "output_type": "stream",
     "text": [
      "Exporting onnx model to ../Weights/onnx/water_seg_decoder.onnx...\n"
     ]
    }
   ],
   "source": [
    "with warnings.catch_warnings():\n",
    "    warnings.filterwarnings(\"ignore\", category=torch.jit.TracerWarning)\n",
    "    warnings.filterwarnings(\"ignore\", category=UserWarning)\n",
    "    with open(output_dec_path, \"wb\") as f:\n",
    "        print(f\"Exporting onnx model to {output_dec_path}...\")\n",
    "        torch.onnx.export(\n",
    "            onnx_model,\n",
    "            tuple(dummy_inputs.values()),\n",
    "            f,\n",
    "            input_names=list(dummy_inputs.keys()),\n",
    "            output_names=[\"masks\", \"iou_predictions\", \"low_res_masks\"],\n",
    "            dynamic_axes=dynamic_axes,\n",
    "            export_params=True,\n",
    "            verbose=False,\n",
    "            opset_version=20,\n",
    "            do_constant_folding=True, \n",
    "            )"
   ]
  },
  {
   "cell_type": "code",
   "execution_count": 22,
   "id": "b1c62e60-ffd9-4625-89b3-64e139b71406",
   "metadata": {},
   "outputs": [
    {
     "data": {
      "text/plain": [
       "['image_embeddings',\n",
       " 'point_coords',\n",
       " 'point_labels',\n",
       " 'mask_input',\n",
       " 'has_mask_input',\n",
       " 'orig_im_size']"
      ]
     },
     "execution_count": 22,
     "metadata": {},
     "output_type": "execute_result"
    }
   ],
   "source": [
    "list(dummy_inputs.keys())"
   ]
  },
  {
   "cell_type": "code",
   "execution_count": null,
   "id": "07762ce7-5315-4dd6-a577-05f7577df454",
   "metadata": {},
   "outputs": [],
   "source": []
  }
 ],
 "metadata": {
  "kernelspec": {
   "display_name": "sam",
   "language": "python",
   "name": "sam"
  },
  "language_info": {
   "codemirror_mode": {
    "name": "ipython",
    "version": 3
   },
   "file_extension": ".py",
   "mimetype": "text/x-python",
   "name": "python",
   "nbconvert_exporter": "python",
   "pygments_lexer": "ipython3",
   "version": "3.10.15"
  }
 },
 "nbformat": 4,
 "nbformat_minor": 5
}
