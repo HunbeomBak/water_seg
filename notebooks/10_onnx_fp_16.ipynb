{
 "cells": [
  {
   "cell_type": "code",
   "execution_count": 1,
   "id": "4ecc1acb-391c-4ac3-a634-da5b2c8bf57a",
   "metadata": {},
   "outputs": [],
   "source": [
    "import os\n",
    "import sys\n",
    "module_path = os.path.abspath(os.path.join('..'))\n",
    "if module_path not in sys.path:\n",
    "    sys.path.append(module_path)"
   ]
  },
  {
   "cell_type": "code",
   "execution_count": 2,
   "id": "1f93eb87-49ff-4219-b16d-f43cb3dc6ac2",
   "metadata": {},
   "outputs": [
    {
     "name": "stderr",
     "output_type": "stream",
     "text": [
      "C:\\Users\\danusys16\\anaconda3\\envs\\sam\\lib\\site-packages\\tqdm\\auto.py:21: TqdmWarning: IProgress not found. Please update jupyter and ipywidgets. See https://ipywidgets.readthedocs.io/en/stable/user_install.html\n",
      "  from .autonotebook import tqdm as notebook_tqdm\n",
      "C:\\Users\\danusys16\\anaconda3\\envs\\sam\\lib\\site-packages\\timm\\models\\layers\\__init__.py:48: FutureWarning: Importing from timm.models.layers is deprecated, please import via timm.layers\n",
      "  warnings.warn(f\"Importing from {__name__} is deprecated, please import via timm.layers\", FutureWarning)\n",
      "C:\\Users\\danusys16\\anaconda3\\envs\\sam\\lib\\site-packages\\timm\\models\\registry.py:4: FutureWarning: Importing from timm.models.registry is deprecated, please import via timm.models\n",
      "  warnings.warn(f\"Importing from {__name__} is deprecated, please import via timm.models\", FutureWarning)\n",
      "D:\\015_segmentation\\Custom_SAM\\Module\\sam\\modeling\\tiny_vit_sam.py:656: UserWarning: Overwriting tiny_vit_5m_224 in registry with Module.sam.modeling.tiny_vit_sam.tiny_vit_5m_224. This is because the name being registered conflicts with an existing name. Please check if this is not expected.\n",
      "  return register_model(fn_wrapper)\n",
      "D:\\015_segmentation\\Custom_SAM\\Module\\sam\\modeling\\tiny_vit_sam.py:656: UserWarning: Overwriting tiny_vit_11m_224 in registry with Module.sam.modeling.tiny_vit_sam.tiny_vit_11m_224. This is because the name being registered conflicts with an existing name. Please check if this is not expected.\n",
      "  return register_model(fn_wrapper)\n",
      "D:\\015_segmentation\\Custom_SAM\\Module\\sam\\modeling\\tiny_vit_sam.py:656: UserWarning: Overwriting tiny_vit_21m_224 in registry with Module.sam.modeling.tiny_vit_sam.tiny_vit_21m_224. This is because the name being registered conflicts with an existing name. Please check if this is not expected.\n",
      "  return register_model(fn_wrapper)\n",
      "D:\\015_segmentation\\Custom_SAM\\Module\\sam\\modeling\\tiny_vit_sam.py:656: UserWarning: Overwriting tiny_vit_21m_384 in registry with Module.sam.modeling.tiny_vit_sam.tiny_vit_21m_384. This is because the name being registered conflicts with an existing name. Please check if this is not expected.\n",
      "  return register_model(fn_wrapper)\n",
      "D:\\015_segmentation\\Custom_SAM\\Module\\sam\\modeling\\tiny_vit_sam.py:656: UserWarning: Overwriting tiny_vit_21m_512 in registry with Module.sam.modeling.tiny_vit_sam.tiny_vit_21m_512. This is because the name being registered conflicts with an existing name. Please check if this is not expected.\n",
      "  return register_model(fn_wrapper)\n"
     ]
    }
   ],
   "source": [
    "import torch\n",
    "import numpy as np\n",
    "from Module.sam import sam_model_registry, SamPredictor\n",
    "from Module.sam.utils.transforms import ResizeLongestSide\n",
    "\n",
    "import onnx\n",
    "import onnxsim\n",
    "from onnxconverter_common.float16 import convert_float_to_float16_model_path\n",
    "from onnxconverter_common import auto_mixed_precision"
   ]
  },
  {
   "cell_type": "code",
   "execution_count": 3,
   "id": "a4ec94e6-08b1-46e3-b74a-6296363b3182",
   "metadata": {},
   "outputs": [],
   "source": [
    "device = torch.device(\"cuda\" if torch.cuda.is_available() else \"cpu\")"
   ]
  },
  {
   "cell_type": "markdown",
   "id": "ce2ea388-9eab-4336-a138-5ac59f2aaf8f",
   "metadata": {},
   "source": [
    "# Model"
   ]
  },
  {
   "cell_type": "markdown",
   "id": "0f721596-58fe-4d5d-8cc2-759d91bf9b99",
   "metadata": {},
   "source": [
    "## Encoder"
   ]
  },
  {
   "cell_type": "code",
   "execution_count": 4,
   "id": "37eb6d76-c00d-414a-99aa-621a90d18099",
   "metadata": {},
   "outputs": [],
   "source": [
    "model_type = 'vit_b'\n",
    "checkpoint = \"../runs/241115_SAM_ViT_b_dataset_V2_ft_v1/best.pth\""
   ]
  },
  {
   "cell_type": "code",
   "execution_count": 5,
   "id": "9bdea929-377b-473c-9460-98209337c38d",
   "metadata": {},
   "outputs": [
    {
     "name": "stderr",
     "output_type": "stream",
     "text": [
      "D:\\015_segmentation\\Custom_SAM\\Module\\sam\\build_sam.py:154: FutureWarning: You are using `torch.load` with `weights_only=False` (the current default value), which uses the default pickle module implicitly. It is possible to construct malicious pickle data which will execute arbitrary code during unpickling (See https://github.com/pytorch/pytorch/blob/main/SECURITY.md#untrusted-models for more details). In a future release, the default value for `weights_only` will be flipped to `True`. This limits the functions that could be executed during unpickling. Arbitrary objects will no longer be allowed to be loaded via this mode unless they are explicitly allowlisted by the user via `torch.serialization.add_safe_globals`. We recommend you start setting `weights_only=True` for any use case where you don't have full control of the loaded file. Please open an issue on GitHub for any issues related to this experimental feature.\n",
      "  state_dict = torch.load(f)\n"
     ]
    }
   ],
   "source": [
    "sam = sam_model_registry[model_type](checkpoint=checkpoint)\n",
    "#sam.to(device)\n",
    "sam.eval();"
   ]
  },
  {
   "cell_type": "code",
   "execution_count": 6,
   "id": "9bf21be9-9cf9-47a7-9d04-a1ea9ff1f0a4",
   "metadata": {},
   "outputs": [],
   "source": [
    "class Model(torch.nn.Module):\n",
    "    def __init__(self, image_size, checkpoint, model_type):\n",
    "        super().__init__()\n",
    "        self.sam = sam_model_registry[model_type](checkpoint=checkpoint)\n",
    "        self.sam.to(device='cpu')\n",
    "        self.predictor = SamPredictor(self.sam)\n",
    "        self.image_size = image_size\n",
    "\n",
    "    def forward(self, x):\n",
    "        self.predictor.set_torch_image(x, (self.image_size))\n",
    "        return self.predictor.get_image_embedding()\n"
   ]
  },
  {
   "cell_type": "code",
   "execution_count": 7,
   "id": "05bdeaf7-8d89-43ba-b90b-e2c9bf55c73e",
   "metadata": {},
   "outputs": [],
   "source": [
    "model =Model(image_size=(1024,1024),\n",
    "             checkpoint=checkpoint,\n",
    "             model_type=model_type)\n",
    "\n",
    "model.to(device);\n",
    "model.eval();"
   ]
  },
  {
   "cell_type": "markdown",
   "id": "c2f87f1d-8a59-40f1-88ef-71af68836b46",
   "metadata": {},
   "source": [
    "### Dummy Input"
   ]
  },
  {
   "cell_type": "code",
   "execution_count": 8,
   "id": "9cbaacd6-cdd3-460c-9262-9fc120cacff6",
   "metadata": {},
   "outputs": [],
   "source": [
    "bs = 1\n",
    "img_size = 1024"
   ]
  },
  {
   "cell_type": "code",
   "execution_count": 9,
   "id": "1894b0b5-0ca3-4fa2-97a5-cf2295811a18",
   "metadata": {},
   "outputs": [],
   "source": [
    "transform = ResizeLongestSide(sam.image_encoder.img_size)"
   ]
  },
  {
   "cell_type": "code",
   "execution_count": 10,
   "id": "ebbf3d45-e312-49b7-a463-24588ccbc85a",
   "metadata": {},
   "outputs": [],
   "source": [
    "pixel_mean = torch.Tensor([123.675, 116.28, 103.53]).view(-1, 1, 1)\n",
    "pixel_std = torch.Tensor([58.395, 57.12, 57.375]).view(-1, 1, 1)"
   ]
  },
  {
   "cell_type": "code",
   "execution_count": 11,
   "id": "bec90939-97a6-4fe8-a182-37af539f38fc",
   "metadata": {},
   "outputs": [],
   "source": [
    "dummy_input = np.zeros((sam.image_encoder.img_size, sam.image_encoder.img_size, 3), dtype=np.uint8)\n",
    "dummy_input = transform.apply_image(dummy_input)\n",
    "dummy_input = torch.as_tensor(dummy_input, device='cpu')\n",
    "dummy_input = dummy_input.permute(2, 0, 1).contiguous()[None, :, :, :]"
   ]
  },
  {
   "cell_type": "code",
   "execution_count": 12,
   "id": "27d45056-596e-40ad-a7b2-514e52abe72b",
   "metadata": {},
   "outputs": [
    {
     "data": {
      "text/plain": [
       "torch.Size([1, 3, 1024, 1024])"
      ]
     },
     "execution_count": 12,
     "metadata": {},
     "output_type": "execute_result"
    }
   ],
   "source": [
    "dummy_input.shape"
   ]
  },
  {
   "cell_type": "markdown",
   "id": "aefbbf3e-2715-4d85-9131-ba768af816ce",
   "metadata": {},
   "source": [
    "### ONNX Export"
   ]
  },
  {
   "cell_type": "code",
   "execution_count": 13,
   "id": "b8d42554-8a0d-4fe1-8968-1b62a5e72fb0",
   "metadata": {},
   "outputs": [],
   "source": [
    "output_path = \"./test.onnx\""
   ]
  },
  {
   "cell_type": "code",
   "execution_count": 14,
   "id": "8c2a947c-f89a-42d8-8596-ea1ab8fccece",
   "metadata": {},
   "outputs": [],
   "source": [
    "with torch.no_grad():\n",
    "    img = dummy_input.to(device)\n",
    "    y = model(img) "
   ]
  },
  {
   "cell_type": "code",
   "execution_count": 15,
   "id": "257b43e7-2f13-47a6-b366-f7b358421e81",
   "metadata": {},
   "outputs": [],
   "source": [
    "input_names=['input']\n",
    "output_names=['output']\n",
    "# opset 17 support layernorm for convnext\n"
   ]
  },
  {
   "cell_type": "code",
   "execution_count": 16,
   "id": "e9f25644-7046-4cca-b8a1-e3eb97ed19a7",
   "metadata": {},
   "outputs": [
    {
     "name": "stderr",
     "output_type": "stream",
     "text": [
      "D:\\015_segmentation\\Custom_SAM\\Module\\sam\\predictor.py:81: TracerWarning: Converting a tensor to a Python boolean might cause the trace to be incorrect. We can't record the data flow of Python values, so this value will be treated as a constant in the future. This means that the trace might not generalize to other inputs!\n",
      "  and transformed_image.shape[1] == 3\n",
      "D:\\015_segmentation\\Custom_SAM\\Module\\sam\\predictor.py:82: TracerWarning: Converting a tensor to a Python boolean might cause the trace to be incorrect. We can't record the data flow of Python values, so this value will be treated as a constant in the future. This means that the trace might not generalize to other inputs!\n",
      "  and max(*transformed_image.shape[2:]) == self.model.image_encoder.img_size\n",
      "D:\\015_segmentation\\Custom_SAM\\Module\\sam\\modeling\\image_encoder.py:258: TracerWarning: Converting a tensor to a Python boolean might cause the trace to be incorrect. We can't record the data flow of Python values, so this value will be treated as a constant in the future. This means that the trace might not generalize to other inputs!\n",
      "  if pad_h > 0 or pad_w > 0:\n",
      "D:\\015_segmentation\\Custom_SAM\\Module\\sam\\modeling\\image_encoder.py:304: TracerWarning: Converting a tensor to a Python boolean might cause the trace to be incorrect. We can't record the data flow of Python values, so this value will be treated as a constant in the future. This means that the trace might not generalize to other inputs!\n",
      "  max_rel_dist = int(2 * max(q_size, k_size) - 1)\n",
      "D:\\015_segmentation\\Custom_SAM\\Module\\sam\\modeling\\image_encoder.py:304: TracerWarning: Converting a tensor to a Python integer might cause the trace to be incorrect. We can't record the data flow of Python values, so this value will be treated as a constant in the future. This means that the trace might not generalize to other inputs!\n",
      "  max_rel_dist = int(2 * max(q_size, k_size) - 1)\n",
      "D:\\015_segmentation\\Custom_SAM\\Module\\sam\\modeling\\image_encoder.py:306: TracerWarning: Converting a tensor to a Python boolean might cause the trace to be incorrect. We can't record the data flow of Python values, so this value will be treated as a constant in the future. This means that the trace might not generalize to other inputs!\n",
      "  if rel_pos.shape[0] != max_rel_dist:\n",
      "D:\\015_segmentation\\Custom_SAM\\Module\\sam\\modeling\\image_encoder.py:318: TracerWarning: Converting a tensor to a Python boolean might cause the trace to be incorrect. We can't record the data flow of Python values, so this value will be treated as a constant in the future. This means that the trace might not generalize to other inputs!\n",
      "  q_coords = torch.arange(q_size)[:, None] * max(k_size / q_size, 1.0)\n",
      "D:\\015_segmentation\\Custom_SAM\\Module\\sam\\modeling\\image_encoder.py:319: TracerWarning: Converting a tensor to a Python boolean might cause the trace to be incorrect. We can't record the data flow of Python values, so this value will be treated as a constant in the future. This means that the trace might not generalize to other inputs!\n",
      "  k_coords = torch.arange(k_size)[None, :] * max(q_size / k_size, 1.0)\n",
      "D:\\015_segmentation\\Custom_SAM\\Module\\sam\\modeling\\image_encoder.py:320: TracerWarning: Converting a tensor to a Python boolean might cause the trace to be incorrect. We can't record the data flow of Python values, so this value will be treated as a constant in the future. This means that the trace might not generalize to other inputs!\n",
      "  relative_coords = (q_coords - k_coords) + (k_size - 1) * max(q_size / k_size, 1.0)\n",
      "D:\\015_segmentation\\Custom_SAM\\Module\\sam\\modeling\\image_encoder.py:287: TracerWarning: Converting a tensor to a Python boolean might cause the trace to be incorrect. We can't record the data flow of Python values, so this value will be treated as a constant in the future. This means that the trace might not generalize to other inputs!\n",
      "  if Hp > H or Wp > W:\n"
     ]
    }
   ],
   "source": [
    "torch.onnx.export(model, \n",
    "                  img, \n",
    "                  output_path, \n",
    "                  verbose=False, opset_version=17, \n",
    "                  input_names=input_names,\n",
    "                  output_names=output_names,          # the ONNX version to export the model to\n",
    "                  # export_params=True,\n",
    "                  do_constant_folding=True,\n",
    "                  dynamic_axes={'input' : {0 : 'batch_size'},    # variable lenght axes\n",
    "                                'output' : {0 : 'batch_size'}})"
   ]
  },
  {
   "cell_type": "code",
   "execution_count": 17,
   "id": "2dea7ea3-1995-4c4a-a731-5449d9543d48",
   "metadata": {},
   "outputs": [],
   "source": [
    "onnx_model = onnx.load(output_path)"
   ]
  },
  {
   "cell_type": "code",
   "execution_count": 20,
   "id": "1778e2f2-fb6e-4619-bd35-07301e6cdccc",
   "metadata": {},
   "outputs": [],
   "source": [
    "simplified_onnx_model_path =  os.path.join('onnx', \"test_simplified.onnx\")\n"
   ]
  },
  {
   "cell_type": "code",
   "execution_count": 21,
   "id": "bd69c584-e4bd-4fb4-af99-9385d1284562",
   "metadata": {},
   "outputs": [
    {
     "name": "stdout",
     "output_type": "stream",
     "text": [
      "Generating onnx\\test_simplified.onnx ...\n",
      "done\n"
     ]
    }
   ],
   "source": [
    "print(f'Generating {simplified_onnx_model_path} ...')\n",
    "simplified_onnx_model, success = onnxsim.simplify(onnx_model)\n",
    "onnx.save_model(simplified_onnx_model, simplified_onnx_model_path, save_as_external_data=True, all_tensors_to_one_file=False)\n",
    "print('done')"
   ]
  },
  {
   "cell_type": "code",
   "execution_count": 5,
   "id": "89b71df4-1f88-4680-b8d3-a49e78277fb5",
   "metadata": {},
   "outputs": [],
   "source": [
    "input_onnx_model = simplified_onnx_model_path\n",
    "output_onnx_model = os.path.join('onnx_export', \"model.fp16.simplified.onnx\")"
   ]
  },
  {
   "cell_type": "code",
   "execution_count": 27,
   "id": "75e216da-edda-4dcf-ad9a-53c8d23aa265",
   "metadata": {},
   "outputs": [],
   "source": [
    "test_data = {\"input\": np.random.rand(1, 3,  sam.image_encoder.img_size,  sam.image_encoder.img_size).astype(np.float32)-0.5}"
   ]
  },
  {
   "cell_type": "code",
   "execution_count": 30,
   "id": "313cb6f4-24e8-4e3d-8941-da62ac4e7c62",
   "metadata": {},
   "outputs": [],
   "source": [
    "def validate(res1, res2):\n",
    "    for r1, r2 in zip(res1, res2):\n",
    "        if not np.allclose(r1, r2, rtol=1e-5, atol=1e-7):\n",
    "            return False\n",
    "    return True"
   ]
  },
  {
   "cell_type": "code",
   "execution_count": 6,
   "id": "272e02bc-995c-45cb-ab29-ba927a810b3d",
   "metadata": {},
   "outputs": [
    {
     "ename": "PermissionError",
     "evalue": "[Errno 13] Permission denied: 'D:\\\\015_segmentation\\\\Custom_SAM\\\\notebooks\\\\onnx\\\\tmpwz1z_a8b'",
     "output_type": "error",
     "traceback": [
      "\u001b[1;31m---------------------------------------------------------------------------\u001b[0m",
      "\u001b[1;31mPermissionError\u001b[0m                           Traceback (most recent call last)",
      "Cell \u001b[1;32mIn[6], line 1\u001b[0m\n\u001b[1;32m----> 1\u001b[0m model_fp16 \u001b[38;5;241m=\u001b[39m \u001b[43mconvert_float_to_float16_model_path\u001b[49m\u001b[43m(\u001b[49m\u001b[43minput_onnx_model\u001b[49m\u001b[43m,\u001b[49m\u001b[43m \u001b[49m\u001b[43mkeep_io_types\u001b[49m\u001b[38;5;241;43m=\u001b[39;49m\u001b[38;5;28;43;01mTrue\u001b[39;49;00m\u001b[43m)\u001b[49m\n",
      "File \u001b[1;32m~\\anaconda3\\envs\\sam\\lib\\site-packages\\onnxconverter_common\\float16.py:334\u001b[0m, in \u001b[0;36mconvert_float_to_float16_model_path\u001b[1;34m(model_path, min_positive_val, max_finite_val, keep_io_types)\u001b[0m\n\u001b[0;32m    332\u001b[0m         shape_infer_model_path \u001b[38;5;241m=\u001b[39m tmpfile\u001b[38;5;241m.\u001b[39mname\n\u001b[0;32m    333\u001b[0m         infer_shapes_path(model_path, shape_infer_model_path)\n\u001b[1;32m--> 334\u001b[0m         model \u001b[38;5;241m=\u001b[39m \u001b[43monnx\u001b[49m\u001b[38;5;241;43m.\u001b[39;49m\u001b[43mload\u001b[49m\u001b[43m(\u001b[49m\u001b[43mshape_infer_model_path\u001b[49m\u001b[43m)\u001b[49m\n\u001b[0;32m    335\u001b[0m         disable_shape_infer \u001b[38;5;241m=\u001b[39m \u001b[38;5;28;01mTrue\u001b[39;00m\n\u001b[0;32m    336\u001b[0m \u001b[38;5;28;01mfinally\u001b[39;00m:\n",
      "File \u001b[1;32m~\\anaconda3\\envs\\sam\\lib\\site-packages\\onnx\\__init__.py:212\u001b[0m, in \u001b[0;36mload_model\u001b[1;34m(f, format, load_external_data)\u001b[0m\n\u001b[0;32m    191\u001b[0m \u001b[38;5;28;01mdef\u001b[39;00m \u001b[38;5;21mload_model\u001b[39m(\n\u001b[0;32m    192\u001b[0m     f: IO[\u001b[38;5;28mbytes\u001b[39m] \u001b[38;5;241m|\u001b[39m \u001b[38;5;28mstr\u001b[39m \u001b[38;5;241m|\u001b[39m os\u001b[38;5;241m.\u001b[39mPathLike,\n\u001b[0;32m    193\u001b[0m     \u001b[38;5;28mformat\u001b[39m: _SupportedFormat \u001b[38;5;241m|\u001b[39m \u001b[38;5;28;01mNone\u001b[39;00m \u001b[38;5;241m=\u001b[39m \u001b[38;5;28;01mNone\u001b[39;00m,  \u001b[38;5;66;03m# noqa: A002\u001b[39;00m\n\u001b[0;32m    194\u001b[0m     load_external_data: \u001b[38;5;28mbool\u001b[39m \u001b[38;5;241m=\u001b[39m \u001b[38;5;28;01mTrue\u001b[39;00m,\n\u001b[0;32m    195\u001b[0m ) \u001b[38;5;241m-\u001b[39m\u001b[38;5;241m>\u001b[39m ModelProto:\n\u001b[0;32m    196\u001b[0m \u001b[38;5;250m    \u001b[39m\u001b[38;5;124;03m\"\"\"Loads a serialized ModelProto into memory.\u001b[39;00m\n\u001b[0;32m    197\u001b[0m \n\u001b[0;32m    198\u001b[0m \u001b[38;5;124;03m    Args:\u001b[39;00m\n\u001b[1;32m   (...)\u001b[0m\n\u001b[0;32m    210\u001b[0m \u001b[38;5;124;03m        Loaded in-memory ModelProto.\u001b[39;00m\n\u001b[0;32m    211\u001b[0m \u001b[38;5;124;03m    \"\"\"\u001b[39;00m\n\u001b[1;32m--> 212\u001b[0m     model \u001b[38;5;241m=\u001b[39m _get_serializer(\u001b[38;5;28mformat\u001b[39m, f)\u001b[38;5;241m.\u001b[39mdeserialize_proto(\u001b[43m_load_bytes\u001b[49m\u001b[43m(\u001b[49m\u001b[43mf\u001b[49m\u001b[43m)\u001b[49m, ModelProto())\n\u001b[0;32m    214\u001b[0m     \u001b[38;5;28;01mif\u001b[39;00m load_external_data:\n\u001b[0;32m    215\u001b[0m         model_filepath \u001b[38;5;241m=\u001b[39m _get_file_path(f)\n",
      "File \u001b[1;32m~\\anaconda3\\envs\\sam\\lib\\site-packages\\onnx\\__init__.py:149\u001b[0m, in \u001b[0;36m_load_bytes\u001b[1;34m(f)\u001b[0m\n\u001b[0;32m    147\u001b[0m \u001b[38;5;28;01melse\u001b[39;00m:\n\u001b[0;32m    148\u001b[0m     f \u001b[38;5;241m=\u001b[39m typing\u001b[38;5;241m.\u001b[39mcast(Union[\u001b[38;5;28mstr\u001b[39m, os\u001b[38;5;241m.\u001b[39mPathLike], f)\n\u001b[1;32m--> 149\u001b[0m     \u001b[38;5;28;01mwith\u001b[39;00m \u001b[38;5;28;43mopen\u001b[39;49m\u001b[43m(\u001b[49m\u001b[43mf\u001b[49m\u001b[43m,\u001b[49m\u001b[43m \u001b[49m\u001b[38;5;124;43m\"\u001b[39;49m\u001b[38;5;124;43mrb\u001b[39;49m\u001b[38;5;124;43m\"\u001b[39;49m\u001b[43m)\u001b[49m \u001b[38;5;28;01mas\u001b[39;00m readable:\n\u001b[0;32m    150\u001b[0m         content \u001b[38;5;241m=\u001b[39m readable\u001b[38;5;241m.\u001b[39mread()\n\u001b[0;32m    151\u001b[0m \u001b[38;5;28;01mreturn\u001b[39;00m content\n",
      "\u001b[1;31mPermissionError\u001b[0m: [Errno 13] Permission denied: 'D:\\\\015_segmentation\\\\Custom_SAM\\\\notebooks\\\\onnx\\\\tmpwz1z_a8b'"
     ]
    }
   ],
   "source": [
    "model_fp16 = convert_float_to_float16_model_path(input_onnx_model, keep_io_types=True)"
   ]
  },
  {
   "cell_type": "code",
   "execution_count": null,
   "id": "f4fa13e8-b481-46d1-8baf-5a990453cf84",
   "metadata": {},
   "outputs": [],
   "source": []
  },
  {
   "cell_type": "code",
   "execution_count": null,
   "id": "da71412f-b2f5-4a00-9a0f-d0635bf70101",
   "metadata": {},
   "outputs": [],
   "source": []
  }
 ],
 "metadata": {
  "kernelspec": {
   "display_name": "sam",
   "language": "python",
   "name": "sam"
  },
  "language_info": {
   "codemirror_mode": {
    "name": "ipython",
    "version": 3
   },
   "file_extension": ".py",
   "mimetype": "text/x-python",
   "name": "python",
   "nbconvert_exporter": "python",
   "pygments_lexer": "ipython3",
   "version": "3.10.15"
  }
 },
 "nbformat": 4,
 "nbformat_minor": 5
}
