{
 "cells": [
  {
   "cell_type": "code",
   "execution_count": 1,
   "id": "3ff9167a-331f-41bb-b92f-cb4d74d23678",
   "metadata": {},
   "outputs": [],
   "source": [
    "import os\n",
    "import sys\n",
    "module_path = os.path.abspath(os.path.join('..'))\n",
    "if module_path not in sys.path:\n",
    "    sys.path.append(module_path)"
   ]
  },
  {
   "cell_type": "code",
   "execution_count": 2,
   "id": "6ba38d12-9d12-4060-a811-315824cf5137",
   "metadata": {},
   "outputs": [
    {
     "name": "stderr",
     "output_type": "stream",
     "text": [
      "C:\\Users\\danusys\\anaconda3\\envs\\nanosam\\lib\\site-packages\\tqdm\\auto.py:21: TqdmWarning: IProgress not found. Please update jupyter and ipywidgets. See https://ipywidgets.readthedocs.io/en/stable/user_install.html\n",
      "  from .autonotebook import tqdm as notebook_tqdm\n",
      "C:\\Users\\danusys\\anaconda3\\envs\\nanosam\\lib\\site-packages\\albumentations\\__init__.py:24: UserWarning: A new version of Albumentations is available: 1.4.21 (you have 1.4.20). Upgrade using: pip install -U albumentations. To disable automatic update checks, set the environment variable NO_ALBUMENTATIONS_UPDATE to 1.\n",
      "  check_for_updates()\n"
     ]
    }
   ],
   "source": [
    "import os\n",
    "import cv2\n",
    "import numpy as np\n",
    "from tqdm import tqdm\n",
    "from glob import glob\n",
    "import torch\n",
    "from collections import defaultdict\n",
    "from sklearn.metrics import auc, roc_curve\n",
    "import matplotlib.pyplot as plt\n",
    "from pathlib import Path\n",
    "from statistics import mean\n",
    "\n",
    "from torch.nn import functional as F\n",
    "from torch.utils.data import DataLoader\n",
    "from torch.nn.functional import threshold, normalize\n",
    "import albumentations as A\n",
    "from albumentations.pytorch import ToTensorV2\n",
    "from segment_anything.utils.transforms import ResizeLongestSide\n",
    "from segment_anything import SamPredictor, sam_model_registry\n",
    "\n",
    "from Module.dataset.WaterDataset import TrainDataset, ValDataset\n",
    "from Module.utils.metric import calculate_accuracy\n",
    "from Module.trainer.full_train import train_one_epoch\n",
    "from Module.trainer.validation import val_one_epoch\n",
    "from Module.utils.text_writer import TextWriter"
   ]
  },
  {
   "cell_type": "markdown",
   "id": "35293dda-5f70-4372-8a94-e2b635960ecc",
   "metadata": {
    "tags": []
   },
   "source": [
    "## Model"
   ]
  },
  {
   "cell_type": "code",
   "execution_count": 3,
   "id": "978ed90d-57a8-423e-b295-09cdcddf3f45",
   "metadata": {},
   "outputs": [],
   "source": [
    "model_type = 'vit_b'\n",
    "checkpoint = None\n",
    "\n",
    "if model_type==\"vit_h\":\n",
    "    checkpoint = '../Weights/sam_vit_h_4b8939.pth'\n",
    "elif model_type==\"vit_l\":\n",
    "    checkpoint = '../Weights/sam_vit_l_0b3195.pth' \n",
    "elif model_type==\"vit_b\":\n",
    "    checkpoint = '../Weights/sam_vit_b_01ec64.pth' \n",
    "    \n",
    "device = torch.device(\"cuda\" if torch.cuda.is_available() else \"cpu\")"
   ]
  },
  {
   "cell_type": "code",
   "execution_count": 4,
   "id": "698f7aaf-b458-4f37-9c20-63ec85575813",
   "metadata": {},
   "outputs": [],
   "source": [
    "sam_model = sam_model_registry[model_type](checkpoint=checkpoint)\n",
    "sam_model.to(device)\n",
    "sam_model.train();"
   ]
  },
  {
   "cell_type": "code",
   "execution_count": 5,
   "id": "344cc8ab-c8a4-428d-a5bb-826e5b0bfc39",
   "metadata": {},
   "outputs": [
    {
     "name": "stdout",
     "output_type": "stream",
     "text": [
      "1024\n"
     ]
    }
   ],
   "source": [
    "enc_img_size = sam_model.image_encoder.img_size\n",
    "print(enc_img_size)"
   ]
  },
  {
   "cell_type": "markdown",
   "id": "9714c650-5960-4d44-94ca-36597f0e8dbd",
   "metadata": {
    "tags": []
   },
   "source": [
    "## Datasets"
   ]
  },
  {
   "cell_type": "code",
   "execution_count": 6,
   "id": "edfae501-5d65-42b8-84e6-352d8f3d21dc",
   "metadata": {},
   "outputs": [],
   "source": [
    "bs=2\n",
    "desired_size=(1024, 1024)"
   ]
  },
  {
   "cell_type": "code",
   "execution_count": 7,
   "id": "ee1a1784-b576-4ff1-9143-06526f076be6",
   "metadata": {},
   "outputs": [],
   "source": [
    "train_transform = A.Compose([\n",
    "    A.RandomBrightnessContrast(p=1, brightness_limit=(-0.5,0.2)),\n",
    "    A.RandomShadow(p=1),\n",
    "    A.RandomRotate90(p=1),\n",
    "    A.RandomGridShuffle(p=0.7)\n",
    "])"
   ]
  },
  {
   "cell_type": "markdown",
   "id": "2bbd7c52-f0ef-4a22-9a65-52bbc2737fed",
   "metadata": {},
   "source": [
    "### Train datasets"
   ]
  },
  {
   "cell_type": "markdown",
   "id": "a52445c7-a8b7-4e87-a347-9eb118526bd9",
   "metadata": {},
   "source": [
    "### Train dataset"
   ]
  },
  {
   "cell_type": "code",
   "execution_count": 8,
   "id": "07965eef-50cc-4e7a-ad9f-2aa780982b75",
   "metadata": {},
   "outputs": [],
   "source": [
    "train_img_dir = r\"D:\\WaterSegmentation\\Datasets\\DANU_WS_v2\\train\\images\"\n",
    "\n",
    "train_gt_dir = r\"D:\\WaterSegmentation\\Datasets\\DANU_WS_v2\\train\\masks\""
   ]
  },
  {
   "cell_type": "code",
   "execution_count": 9,
   "id": "6b6e7552-02a5-432c-a672-a60ca9876539",
   "metadata": {},
   "outputs": [],
   "source": [
    "img_dir = r\"D:\\WaterSegmentation\\Datasets\\AY_frames_241115\\02_dataset_format\\images\"\n",
    "gt_dir = r\"D:\\WaterSegmentation\\Datasets\\AY_frames_241115\\02_dataset_format\\masks\""
   ]
  },
  {
   "cell_type": "code",
   "execution_count": 10,
   "id": "8aecf636-8a4f-498d-b90a-8efdc8521d98",
   "metadata": {},
   "outputs": [],
   "source": [
    "train_img_dir = img_dir\n",
    "\n",
    "train_gt_dir = gt_dir"
   ]
  },
  {
   "cell_type": "code",
   "execution_count": 9,
   "id": "f20466a2-3f8b-4334-9c7f-462891893af5",
   "metadata": {},
   "outputs": [],
   "source": [
    "train_dataset = TrainDataset(train_img_dir, \n",
    "                             train_gt_dir, \n",
    "                             transform=train_transform)\n"
   ]
  },
  {
   "cell_type": "code",
   "execution_count": 10,
   "id": "b8bbd63e-f5c6-4201-a580-59070a442618",
   "metadata": {},
   "outputs": [],
   "source": [
    "train_loader=DataLoader(train_dataset, \n",
    "                        shuffle=True, \n",
    "                        batch_size=bs, \n",
    "                        num_workers=0)"
   ]
  },
  {
   "cell_type": "markdown",
   "id": "37239157-a356-4118-98e1-b33678153e2d",
   "metadata": {},
   "source": [
    "### Validation dataset"
   ]
  },
  {
   "cell_type": "code",
   "execution_count": 14,
   "id": "605bbdf7-f0ca-4f5b-b90f-ba0868b2a245",
   "metadata": {},
   "outputs": [],
   "source": [
    "val_img_dir = r\"D:\\WaterSegmentation\\Datasets\\DANU_WS_v1\\valid\\images\"\n",
    "val_gt_dir = r\"D:\\WaterSegmentation\\Datasets\\DANU_WS_v1\\valid\\masks\""
   ]
  },
  {
   "cell_type": "code",
   "execution_count": 15,
   "id": "09977b66-4cd7-43ff-88e8-5e6ae879245e",
   "metadata": {},
   "outputs": [],
   "source": [
    "val_dataset = ValDataset(val_img_dir, \n",
    "                         val_gt_dir)\n"
   ]
  },
  {
   "cell_type": "code",
   "execution_count": 16,
   "id": "add83ebe-5f9d-4156-b5c2-f17ba4bc5334",
   "metadata": {},
   "outputs": [],
   "source": [
    "val_loader=DataLoader(val_dataset, \n",
    "                        shuffle=False, \n",
    "                        batch_size=1, \n",
    "                        num_workers=0)"
   ]
  },
  {
   "cell_type": "markdown",
   "id": "867ad50d-c4fe-44cc-bfc4-fd3433a665f9",
   "metadata": {},
   "source": [
    "## Fine tuning"
   ]
  },
  {
   "cell_type": "markdown",
   "id": "b63e735e-2165-4917-9503-7c709b38cc2e",
   "metadata": {},
   "source": [
    "### Setting"
   ]
  },
  {
   "cell_type": "code",
   "execution_count": 17,
   "id": "425daf8f-568b-4b93-9484-e549e0249df3",
   "metadata": {},
   "outputs": [],
   "source": [
    "optimizer = torch.optim.Adam(sam_model.parameters(), \n",
    "                             lr=1e-5, \n",
    "                             weight_decay=0)\n",
    "\n",
    "loss_fn = torch.nn.BCEWithLogitsLoss() #torch.nn.MSELoss()\n",
    "# Check if GPU is available\n",
    "device = torch.device(\"cuda\" if torch.cuda.is_available() else \"cpu\")\n",
    "# Define batch size\n",
    "\n",
    "num_epochs = 30\n",
    "nw = 5 # warm up epochs\n",
    "save_dir_name = \"241118_SAM_ViT_b_dataset_V2_ft_v2\"\n",
    "model_name = \"best.pth\"\n",
    "\n",
    "scheduler = torch.optim.lr_scheduler.LambdaLR(optimizer, \n",
    "                                              lr_lambda=lambda epoch: epoch / nw  if epoch < nw else 1)"
   ]
  },
  {
   "cell_type": "code",
   "execution_count": 18,
   "id": "b8b16076-4aab-4a0c-ac97-33af0b491ef8",
   "metadata": {},
   "outputs": [],
   "source": [
    "save_dir = os.path.join('../runs',save_dir_name)\n",
    "if not os.path.exists(save_dir): \n",
    "    os.makedirs(save_dir) \n",
    "    \n",
    "log_path = os.path.join(save_dir, \"train_logs.txt\")"
   ]
  },
  {
   "cell_type": "code",
   "execution_count": null,
   "id": "a66c8f55-ad0a-459a-993a-922c216a4722",
   "metadata": {},
   "outputs": [
    {
     "name": "stderr",
     "output_type": "stream",
     "text": [
      "100%|██████████████████████████████████████████████████████████████████████████████| 1260/1260 [21:25<00:00,  1.02s/it]\n"
     ]
    },
    {
     "name": "stdout",
     "output_type": "stream",
     "text": [
      "[0] Mean training loss: 0.7099401380334581\n",
      "[0] Mean training accuracy: 0.6989813804626465\n"
     ]
    },
    {
     "name": "stderr",
     "output_type": "stream",
     "text": [
      "100%|████████████████████████████████████████████████████████████████████████████████| 359/359 [01:21<00:00,  4.39it/s]\n"
     ]
    },
    {
     "name": "stdout",
     "output_type": "stream",
     "text": [
      "[0] Mean validation loss: 0.6781796523289428\n",
      "[0] Mean validation accuracy: 0.7554335315247432\n"
     ]
    },
    {
     "name": "stderr",
     "output_type": "stream",
     "text": [
      "100%|██████████████████████████████████████████████████████████████████████████████| 1260/1260 [20:33<00:00,  1.02it/s]\n"
     ]
    },
    {
     "name": "stdout",
     "output_type": "stream",
     "text": [
      "[1] Mean training loss: 0.6949200826977927\n",
      "[1] Mean training accuracy: 0.7161010253997077\n"
     ]
    },
    {
     "name": "stderr",
     "output_type": "stream",
     "text": [
      "100%|████████████████████████████████████████████████████████████████████████████████| 359/359 [01:22<00:00,  4.33it/s]\n"
     ]
    },
    {
     "name": "stdout",
     "output_type": "stream",
     "text": [
      "[1] Mean validation loss: 0.6931471824645996\n",
      "[1] Mean validation accuracy: 0.6902136523743526\n"
     ]
    },
    {
     "name": "stderr",
     "output_type": "stream",
     "text": [
      "100%|██████████████████████████████████████████████████████████████████████████████| 1260/1260 [20:36<00:00,  1.02it/s]\n"
     ]
    },
    {
     "name": "stdout",
     "output_type": "stream",
     "text": [
      "[2] Mean training loss: 0.6893020647149237\n",
      "[2] Mean training accuracy: 0.730247780254909\n"
     ]
    },
    {
     "name": "stderr",
     "output_type": "stream",
     "text": [
      "100%|████████████████████████████████████████████████████████████████████████████████| 359/359 [01:23<00:00,  4.32it/s]\n"
     ]
    },
    {
     "name": "stdout",
     "output_type": "stream",
     "text": [
      "[2] Mean validation loss: 0.6650617015561021\n",
      "[2] Mean validation accuracy: 0.7687299723080606\n"
     ]
    },
    {
     "name": "stderr",
     "output_type": "stream",
     "text": [
      "100%|██████████████████████████████████████████████████████████████████████████████| 1260/1260 [20:30<00:00,  1.02it/s]\n"
     ]
    },
    {
     "name": "stdout",
     "output_type": "stream",
     "text": [
      "[3] Mean training loss: 0.6694524266180538\n",
      "[3] Mean training accuracy: 0.7908324211362808\n"
     ]
    },
    {
     "name": "stderr",
     "output_type": "stream",
     "text": [
      "100%|████████████████████████████████████████████████████████████████████████████████| 359/359 [01:23<00:00,  4.27it/s]\n"
     ]
    },
    {
     "name": "stdout",
     "output_type": "stream",
     "text": [
      "[3] Mean validation loss: 0.6331521552419264\n",
      "[3] Mean validation accuracy: 0.858461799727841\n"
     ]
    },
    {
     "name": "stderr",
     "output_type": "stream",
     "text": [
      " 29%|███████████████████████                                                        | 367/1260 [05:55<14:56,  1.00s/it]"
     ]
    }
   ],
   "source": [
    "best_val_loss = float('inf')\n",
    "\n",
    "recoder = TextWriter(log_path)\n",
    "\n",
    "for epoch in range(num_epochs):\n",
    "    epoch_train_loss, epoch_train_accuracy = train_one_epoch(model=sam_model,\n",
    "                                                            data_loader=train_loader,\n",
    "                                                            optimizer=optimizer,\n",
    "                                                            loss_fn=loss_fn,\n",
    "                                                             device=device)\n",
    "    train_txt1 = f'[{epoch}] Mean training loss: {epoch_train_loss}'\n",
    "    train_txt2 = f'[{epoch}] Mean training accuracy: {epoch_train_accuracy}'\n",
    "    print(train_txt1)\n",
    "    print(train_txt2)\n",
    "    recoder.add_line(train_txt1+\"\\n\")\n",
    "    recoder.add_line(train_txt2+\"\\n\")\n",
    "    \n",
    "    epoch_val_loss, epoch_val_accuracy = val_one_epoch(model=sam_model,\n",
    "                                                       data_loader=val_loader,\n",
    "                                                       loss_fn=loss_fn,\n",
    "                                                       device=device)\n",
    "    # Validation loop\n",
    "    # Calculate mean validation loss for the current epoch\n",
    "    val_txt1 = f'[{epoch}] Mean validation loss: {epoch_val_loss}'\n",
    "    print(val_txt1)\n",
    "\n",
    "    # Calculate mean validation accuracy for the current epoch\n",
    "    val_txt2 = f'[{epoch}] Mean validation accuracy: {epoch_val_accuracy}'\n",
    "    print(val_txt2)\n",
    "    \n",
    "    recoder.add_line(val_txt1+\"\\n\")\n",
    "    recoder.add_line(val_txt2+\"\\n\")\n",
    "    # Save the model checkpoint if the validation accuracy improves\n",
    "    if epoch_val_loss < best_val_loss:\n",
    "        best_val_loss = epoch_val_loss\n",
    "        torch.save(sam_model.state_dict(), os.path.join(save_dir, model_name))\n",
    "\n",
    "    # Clear GPU cache after each epoch\n",
    "    scheduler.step()\n",
    "    torch.cuda.empty_cache()\n"
   ]
  },
  {
   "cell_type": "code",
   "execution_count": null,
   "id": "2aa8af85-317e-4b8a-84f6-0b516296b013",
   "metadata": {},
   "outputs": [],
   "source": []
  },
  {
   "cell_type": "code",
   "execution_count": null,
   "id": "8045a45b-ec6e-4c2e-b36a-03909dbea8cd",
   "metadata": {},
   "outputs": [],
   "source": []
  },
  {
   "cell_type": "code",
   "execution_count": null,
   "id": "d7c5173a-bdaf-464e-bab7-472265da034c",
   "metadata": {},
   "outputs": [],
   "source": []
  },
  {
   "cell_type": "code",
   "execution_count": null,
   "id": "f097232d-64c0-4051-8868-0a535be6ec89",
   "metadata": {},
   "outputs": [],
   "source": []
  },
  {
   "cell_type": "code",
   "execution_count": null,
   "id": "d7d29d3d-a824-4368-b2f0-f54b5d88b83b",
   "metadata": {},
   "outputs": [],
   "source": []
  },
  {
   "cell_type": "code",
   "execution_count": null,
   "id": "de3bfec3-f2d7-460a-8d8b-58bab7d4b46e",
   "metadata": {},
   "outputs": [],
   "source": []
  }
 ],
 "metadata": {
  "kernelspec": {
   "display_name": "sam",
   "language": "python",
   "name": "sam"
  },
  "language_info": {
   "codemirror_mode": {
    "name": "ipython",
    "version": 3
   },
   "file_extension": ".py",
   "mimetype": "text/x-python",
   "name": "python",
   "nbconvert_exporter": "python",
   "pygments_lexer": "ipython3",
   "version": "3.9.20"
  }
 },
 "nbformat": 4,
 "nbformat_minor": 5
}
