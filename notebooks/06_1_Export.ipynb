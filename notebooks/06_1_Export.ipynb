{
 "cells": [
  {
   "cell_type": "code",
   "execution_count": 1,
   "id": "6a25c079-3802-47e1-98d5-b7a0b8883f92",
   "metadata": {},
   "outputs": [
    {
     "ename": "ModuleNotFoundError",
     "evalue": "No module named 'segment_anything'",
     "output_type": "error",
     "traceback": [
      "\u001b[1;31m---------------------------------------------------------------------------\u001b[0m",
      "\u001b[1;31mModuleNotFoundError\u001b[0m                       Traceback (most recent call last)",
      "Cell \u001b[1;32mIn[1], line 4\u001b[0m\n\u001b[0;32m      2\u001b[0m \u001b[38;5;28;01mfrom\u001b[39;00m \u001b[38;5;21;01mtorch2trt\u001b[39;00m \u001b[38;5;28;01mimport\u001b[39;00m torch2trt\n\u001b[0;32m      3\u001b[0m \u001b[38;5;28;01mimport\u001b[39;00m \u001b[38;5;21;01mwarnings\u001b[39;00m\n\u001b[1;32m----> 4\u001b[0m \u001b[38;5;28;01mfrom\u001b[39;00m \u001b[38;5;21;01msegment_anything\u001b[39;00m \u001b[38;5;28;01mimport\u001b[39;00m sam_model_registry, SamPredictor\n\u001b[0;32m      5\u001b[0m \u001b[38;5;28;01mfrom\u001b[39;00m \u001b[38;5;21;01msegment_anything\u001b[39;00m\u001b[38;5;21;01m.\u001b[39;00m\u001b[38;5;21;01mutils\u001b[39;00m\u001b[38;5;21;01m.\u001b[39;00m\u001b[38;5;21;01monnx\u001b[39;00m \u001b[38;5;28;01mimport\u001b[39;00m SamOnnxModel\n\u001b[0;32m      7\u001b[0m \u001b[38;5;28;01mfrom\u001b[39;00m \u001b[38;5;21;01mModule\u001b[39;00m\u001b[38;5;21;01m.\u001b[39;00m\u001b[38;5;21;01mmodels\u001b[39;00m\u001b[38;5;21;01m.\u001b[39;00m\u001b[38;5;21;01mtimm_image_encoder\u001b[39;00m \u001b[38;5;28;01mimport\u001b[39;00m TimmImageEncoder\n",
      "\u001b[1;31mModuleNotFoundError\u001b[0m: No module named 'segment_anything'"
     ]
    }
   ],
   "source": [
    "import torch\n",
    "from torch2trt import torch2trt\n",
    "import warnings\n",
    "from segment_anything import sam_model_registry, SamPredictor\n",
    "from segment_anything.utils.onnx import SamOnnxModel\n",
    "\n",
    "from Module.models.timm_image_encoder import TimmImageEncoder\n",
    "from torch2trt import torch2trt"
   ]
  },
  {
   "cell_type": "code",
   "execution_count": null,
   "id": "3905e29b-25ae-4177-b957-a296a053845e",
   "metadata": {},
   "outputs": [],
   "source": [
    "from mobile_sam.modeling.sam import Sam\n",
    "import onnxruntime"
   ]
  },
  {
   "cell_type": "code",
   "execution_count": null,
   "id": "1e3eb19b-742a-4136-bbee-3c42e14b4982",
   "metadata": {},
   "outputs": [],
   "source": [
    "## 0. Setting\n",
    "opset=17"
   ]
  },
  {
   "cell_type": "markdown",
   "id": "b91846d1-44e1-4079-91e5-1be20f3479fd",
   "metadata": {
    "tags": []
   },
   "source": [
    "## 1. Export Decoder to onnx from SAM\n",
    "- Export the SAM prompt encoder and mask decoder to an ONNX model"
   ]
  },
  {
   "cell_type": "code",
   "execution_count": null,
   "id": "6bff05d5-8a33-4a6b-a10e-e7b6bafb161b",
   "metadata": {},
   "outputs": [],
   "source": [
    "def to_numpy(tensor):\n",
    "    return tensor.cpu().numpy()"
   ]
  },
  {
   "cell_type": "code",
   "execution_count": 30,
   "id": "3eedae36-f354-4111-937b-e5410d795079",
   "metadata": {},
   "outputs": [],
   "source": [
    "#model_type_t = 'vit_l'\n",
    "#checkpoint_t = './runs/241107_SAM_ViT_L_ft_v1/best.pth'\n",
    "model_type_t = 'vit_b'\n",
    "checkpoint_t = './runs/241028_SAM_FT_water_10e/241028_SAM_FT_10e_.pth'"
   ]
  },
  {
   "cell_type": "code",
   "execution_count": 31,
   "id": "bb7ee401-6ec9-4bc2-9057-c36ada6f74ee",
   "metadata": {},
   "outputs": [],
   "source": [
    "output = \"241112_test_sam_vit-l_decoder.onnx\""
   ]
  },
  {
   "cell_type": "code",
   "execution_count": 32,
   "id": "42267bef-d99c-4132-858a-b9fc3c68c2d6",
   "metadata": {},
   "outputs": [],
   "source": [
    "sam = sam_model_registry[model_type_t](checkpoint=checkpoint_t)"
   ]
  },
  {
   "cell_type": "code",
   "execution_count": 33,
   "id": "b20f2f59-6c0d-4394-bba7-6de2ae32b4f6",
   "metadata": {},
   "outputs": [],
   "source": [
    "onnx_model = SamOnnxModel(\n",
    "    model=sam,\n",
    "    return_single_mask=True,\n",
    "    use_stability_score=False,\n",
    "    return_extra_metrics=False,\n",
    "    )"
   ]
  },
  {
   "cell_type": "code",
   "execution_count": 34,
   "id": "f0690a92-f100-4e61-87e6-dc4f85376242",
   "metadata": {},
   "outputs": [],
   "source": [
    "embed_dim = sam.prompt_encoder.embed_dim\n",
    "embed_size = sam.prompt_encoder.image_embedding_size\n",
    "mask_input_size = [4 * x for x in embed_size]\n",
    "opset=16\n",
    "dynamic_axes = {\n",
    "        \"point_coords\": {1: \"num_points\"},\n",
    "        \"point_labels\": {1: \"num_points\"},\n",
    "    }\n",
    "\n",
    "dummy_inputs = {\n",
    "        \"image_embeddings\": torch.randn(1, embed_dim, *embed_size, dtype=torch.float),\n",
    "        \"point_coords\": torch.randint(low=0, high=1024, size=(1, 5, 2), dtype=torch.float),\n",
    "        \"point_labels\": torch.randint(low=0, high=4, size=(1, 5), dtype=torch.float),\n",
    "        \"mask_input\": torch.randn(1, 1, *mask_input_size, dtype=torch.float),\n",
    "        \"has_mask_input\": torch.tensor([1], dtype=torch.float),\n",
    "        \"orig_im_size\": torch.tensor([1500, 2250], dtype=torch.int32),\n",
    "    }"
   ]
  },
  {
   "cell_type": "code",
   "execution_count": 35,
   "id": "2573c838-db48-41fe-8524-c420e5f3d2ad",
   "metadata": {},
   "outputs": [],
   "source": [
    "_ = onnx_model(**dummy_inputs)"
   ]
  },
  {
   "cell_type": "code",
   "execution_count": 36,
   "id": "1c612686-31dd-40c8-8c7b-de5be0954c25",
   "metadata": {},
   "outputs": [],
   "source": [
    "output_names = [\"masks\", \"iou_predictions\", \"low_res_masks\"]"
   ]
  },
  {
   "cell_type": "code",
   "execution_count": 37,
   "id": "c36d10ac-7870-4bf6-86a8-60e59035e303",
   "metadata": {},
   "outputs": [
    {
     "name": "stdout",
     "output_type": "stream",
     "text": [
      "Exporting onnx model to 241108_test_sam_vit-b_decoder.onnx...\n",
      "============= Diagnostic Run torch.onnx.export version 2.0.1+cu118 =============\n",
      "verbose: False, log level: Level.ERROR\n",
      "======================= 0 NONE 0 NOTE 0 WARNING 0 ERROR ========================\n",
      "\n"
     ]
    }
   ],
   "source": [
    "with warnings.catch_warnings():\n",
    "    warnings.filterwarnings(\"ignore\", category=torch.jit.TracerWarning)\n",
    "    warnings.filterwarnings(\"ignore\", category=UserWarning)\n",
    "    with open(output, \"wb\") as f:\n",
    "        print(f\"Exporting onnx model to {output}...\")\n",
    "        torch.onnx.export(\n",
    "                onnx_model,\n",
    "                tuple(dummy_inputs.values()),\n",
    "                f,\n",
    "                export_params=True,\n",
    "                verbose=False,\n",
    "                opset_version=opset,\n",
    "                do_constant_folding=True,\n",
    "                input_names=list(dummy_inputs.keys()),\n",
    "                output_names=output_names,\n",
    "                dynamic_axes=dynamic_axes,\n",
    "            )"
   ]
  },
  {
   "cell_type": "code",
   "execution_count": 38,
   "id": "bea00ec1-56f4-4976-8c29-56bbd67d03bc",
   "metadata": {},
   "outputs": [],
   "source": [
    "ort_inputs = {k: to_numpy(v) for k, v in dummy_inputs.items()}\n",
    "providers = [\"CPUExecutionProvider\"]\n",
    "ort_session = onnxruntime.InferenceSession(output, providers=providers)"
   ]
  },
  {
   "cell_type": "code",
   "execution_count": 39,
   "id": "d69f2d0b-6fbd-4b4b-9d94-8de5b8a7639c",
   "metadata": {},
   "outputs": [],
   "source": [
    "_ = ort_session.run(None, ort_inputs)"
   ]
  },
  {
   "cell_type": "code",
   "execution_count": 40,
   "id": "18c5d78a-def8-4da8-8097-3e68d6a4d114",
   "metadata": {},
   "outputs": [
    {
     "name": "stdout",
     "output_type": "stream",
     "text": [
      "Model has successfully been run with ONNXRuntime.\n"
     ]
    }
   ],
   "source": [
    "print(\"Model has successfully been run with ONNXRuntime.\")"
   ]
  },
  {
   "cell_type": "markdown",
   "id": "47593f0d-8684-4786-a526-9eaba3c8a667",
   "metadata": {},
   "source": [
    "## 2. Export image encoder (ResNet)"
   ]
  },
  {
   "cell_type": "code",
   "execution_count": 8,
   "id": "12c4b355-8248-460a-b73d-2a633724e7ff",
   "metadata": {},
   "outputs": [],
   "source": [
    "model_type_s = 'resnet18'\n",
    "weight_s_path = \"./runs/241031_vit-b_to_resnet18_v2/Nanosam_encoder.pth\"\n",
    "model_s = TimmImageEncoder('resnet18', pretrained=True)\n",
    "model_s.load_state_dict(torch.load(weight_s_path)[\"model\"])\n",
    "device = \"cuda\" if torch.cuda.is_available() else \"cpu\"\n",
    "model_s.to(device)\n",
    "model_s.eval();"
   ]
  },
  {
   "cell_type": "code",
   "execution_count": 9,
   "id": "72e98a2a-dc4a-4adb-9909-9101c14e0638",
   "metadata": {},
   "outputs": [],
   "source": [
    "input_size = 1024\n",
    "\n",
    "output = \"241107_test_sam_vit-b_encoder.onnx\""
   ]
  },
  {
   "cell_type": "code",
   "execution_count": 10,
   "id": "b339c115-7edd-4aa7-b77f-c15fb3edba94",
   "metadata": {},
   "outputs": [],
   "source": [
    "data = torch.randn(1, 3, input_size, input_size).to(device)"
   ]
  },
  {
   "cell_type": "code",
   "execution_count": 11,
   "id": "3387d0ba-7460-4ed6-a8c1-a28687199e13",
   "metadata": {},
   "outputs": [],
   "source": [
    "model_trt = torch2trt(model_s, [data])"
   ]
  },
  {
   "cell_type": "code",
   "execution_count": 12,
   "id": "d9e84b2b-8a0d-48ac-aec0-333cdb041b7b",
   "metadata": {},
   "outputs": [
    {
     "name": "stdout",
     "output_type": "stream",
     "text": [
      "============= Diagnostic Run torch.onnx.export version 2.0.1+cu118 =============\n",
      "verbose: False, log level: Level.ERROR\n",
      "======================= 0 NONE 0 NOTE 0 WARNING 0 ERROR ========================\n",
      "\n"
     ]
    }
   ],
   "source": [
    "output = \"241107_test_sam_vit-b_encoder.onnx\"\n",
    "\n",
    "torch.onnx.export(\n",
    "            model_s,\n",
    "            (data,),\n",
    "            output,\n",
    "            input_names=[\"image\"],\n",
    "            output_names=[\"image_embeddings\"],\n",
    "            opset_version=opset\n",
    "        )"
   ]
  },
  {
   "cell_type": "code",
   "execution_count": null,
   "id": "ec0877e7-b3f2-4af4-a89b-4c9805066447",
   "metadata": {},
   "outputs": [],
   "source": []
  }
 ],
 "metadata": {
  "kernelspec": {
   "display_name": "sam",
   "language": "python",
   "name": "sam"
  },
  "language_info": {
   "codemirror_mode": {
    "name": "ipython",
    "version": 3
   },
   "file_extension": ".py",
   "mimetype": "text/x-python",
   "name": "python",
   "nbconvert_exporter": "python",
   "pygments_lexer": "ipython3",
   "version": "3.10.15"
  }
 },
 "nbformat": 4,
 "nbformat_minor": 5
}
